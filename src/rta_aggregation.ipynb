{
 "cells": [
  {
   "cell_type": "code",
   "execution_count": 1,
   "metadata": {},
   "outputs": [],
   "source": [
    "import requests\n",
    "import pandas as pd\n",
    "import numpy as np\n",
    "from io import StringIO, BytesIO\n",
    "import json\n",
    "import geopandas as gpd\n",
    "\n",
    "\n",
    "RTA_ROUTE_URL = 'https://opendata.arcgis.com/datasets/1cb5c63d6f114f8a94c6d5a0e03ae62e_0.csv?outSR=%7B%22latestWkid%22%3A3857%2C%22wkid%22%3A102100%7D'\n",
    "RTA_ROUTE_DATA = requests.get(RTA_ROUTE_URL)\n",
    "\n",
    "RTA_STOPS_URL = 'https://gis.massdot.state.ma.us/arcgis/rest/services/Multimodal/RTAs/FeatureServer/1/query?where=1%3D1&outFields=*&outSR=4326&f=json'\n",
    "RTA_STOPS_DATA = requests.get(RTA_STOPS_URL)\n",
    "\n",
    "RTA_RIDERSHIP_URL = 'https://www.transit.dot.gov/sites/fta.dot.gov/files/2020-10/August%202020%20Adjusted%20Database.xlsx'\n",
    "RTA_RIDERSHIP_DATA = requests.get(RTA_RIDERSHIP_URL)\n",
    "\n",
    "# Rishab helper code\n",
    "def add_census_tract(dataframe):\n",
    "    polygons = gpd.read_file(\"data/tl_2019_25_tract/tl_2019_25_tract.shp\")\n",
    "    polygons = polygons.rename(columns={\"TRACTCE\": \"census_tract\"}, index=str)\n",
    "    polygons = polygons.to_crs(\"EPSG:26986\")\n",
    "    gdf = dataframe\n",
    "    df = gpd.sjoin(gdf, polygons[['census_tract', 'geometry']], how='left', op='within')\n",
    "    df.drop(columns=['index_right'], inplace=True)\n",
    "    return df\n",
    "\n",
    "\n",
    "def get_median_hh_income():\n",
    "    '''\n",
    "    Returns Pandas DataFrame representation Median Household Income Estimate by Census Tract for MA.\n",
    "    American Community Survey (ACS) 2018 Census data used.\n",
    "    Specific table: ACS 2018 5-year detailed table \"B19013_001E\"\n",
    "    '''\n",
    "    URL = \"https://api.census.gov/data/2018/acs/acs5?get=B19013_001E&for=tract:*&in=state:25\"\n",
    "\n",
    "    response = requests.get(url = URL)\n",
    "    data = response.json()\n",
    "\n",
    "    median_income_df = pd.DataFrame(data[1:len(data)-1], columns = data[0])\n",
    "\n",
    "    return median_income_df"
   ]
  },
  {
   "cell_type": "code",
   "execution_count": 2,
   "metadata": {},
   "outputs": [],
   "source": [
    "route_df = pd.read_csv(StringIO(RTA_ROUTE_DATA.content.decode()))\n",
    "stops_data = json.loads(RTA_STOPS_DATA.content)['features']\n",
    "ridership_df = pd.read_excel(BytesIO(RTA_RIDERSHIP_DATA.content), sheet_name='MASTER')\n",
    "agency_set = set([stop['attributes']['Agency'] for stop in stops_data])\n",
    "\n",
    "# Get only brockton\n",
    "brockton = {\n",
    "    'routes': route_df.loc[route_df['Agency'] == 'BrocktonAreaRTA'],\n",
    "    'ridership': ridership_df.loc[ridership_df['Agency'] == 'Brockton Area Transit Authority'],\n",
    "    'stops': [stop for stop in stops_data if stop['attributes']['Agency'] == 'BrocktonAreaRTA']\n",
    "}"
   ]
  }
 ],
 "metadata": {
  "kernelspec": {
   "display_name": "Python 3",
   "language": "python",
   "name": "python3"
  },
  "language_info": {
   "codemirror_mode": {
    "name": "ipython",
    "version": 3
   },
   "file_extension": ".py",
   "mimetype": "text/x-python",
   "name": "python",
   "nbconvert_exporter": "python",
   "pygments_lexer": "ipython3",
   "version": "3.8.3"
  }
 },
 "nbformat": 4,
 "nbformat_minor": 4
}
