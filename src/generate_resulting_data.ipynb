{
 "metadata": {
  "language_info": {
   "codemirror_mode": {
    "name": "ipython",
    "version": 3
   },
   "file_extension": ".py",
   "mimetype": "text/x-python",
   "name": "python",
   "nbconvert_exporter": "python",
   "pygments_lexer": "ipython3",
   "version": "3.7.2-final"
  },
  "orig_nbformat": 2,
  "kernelspec": {
   "name": "python3",
   "display_name": "Python 3"
  }
 },
 "nbformat": 4,
 "nbformat_minor": 2,
 "cells": [
  {
   "cell_type": "code",
   "execution_count": 1,
   "metadata": {},
   "outputs": [],
   "source": [
    "import pandas as pd"
   ]
  },
  {
   "cell_type": "code",
   "execution_count": 4,
   "metadata": {},
   "outputs": [],
   "source": [
    "income = pd.read_csv('../data/bus_area_income_ma.csv', index_col=0)\n",
    "stop_route_map = pd.read_csv('../data/bus_stop_route_mapping.csv', index_col=0)"
   ]
  },
  {
   "cell_type": "code",
   "execution_count": 10,
   "metadata": {},
   "outputs": [],
   "source": [
    "income = income.drop(columns=['route'])"
   ]
  },
  {
   "cell_type": "code",
   "execution_count": 11,
   "metadata": {},
   "outputs": [
    {
     "output_type": "stream",
     "name": "stdout",
     "text": [
      "<class 'pandas.core.frame.DataFrame'>\nInt64Index: 8134 entries, 10100 to 985600\nData columns (total 15 columns):\n #   Column                   Non-Null Count  Dtype  \n---  ------                   --------------  -----  \n 0   geometry                 8134 non-null   object \n 1   OBJECTID                 8134 non-null   int64  \n 2   stop_id                  8134 non-null   object \n 3   stop_code                6524 non-null   object \n 4   stop_name                8134 non-null   object \n 5   stop_lat                 8134 non-null   float64\n 6   stop_lon                 8134 non-null   float64\n 7   stop_url                 1222 non-null   object \n 8   location_type            8083 non-null   float64\n 9   parent_station           27 non-null     object \n 10  wheelchair_boarding      6312 non-null   float64\n 11  Agency                   8134 non-null   object \n 12  median_household_income  8134 non-null   float64\n 13  county                   8134 non-null   int64  \n 14  population               8134 non-null   int64  \ndtypes: float64(5), int64(3), object(7)\nmemory usage: 1016.8+ KB\n"
     ]
    }
   ],
   "source": [
    "income.info()"
   ]
  },
  {
   "cell_type": "code",
   "execution_count": 12,
   "metadata": {},
   "outputs": [],
   "source": [
    "result = pd.merge(income, stop_route_map, on='stop_id', how='inner')"
   ]
  },
  {
   "cell_type": "code",
   "execution_count": 9,
   "metadata": {},
   "outputs": [
    {
     "output_type": "execute_result",
     "data": {
      "text/plain": [
       "                                        geometry_x  OBJECTID_x  stop_id  \\\n",
       "0     POINT (-70.18922771099994 42.05276701300005)        6294  2455484   \n",
       "1     POINT (-70.18623999999994 42.05095800000004)        6378   800616   \n",
       "2     POINT (-70.19527599999998 42.05053400000003)        6379   800617   \n",
       "3     POINT (-70.19271699999996 42.06563000000006)        6392   800631   \n",
       "4     POINT (-70.21644699999996 42.04381300000006)        6393   800632   \n",
       "...                                            ...         ...      ...   \n",
       "8964  POINT (-69.98485999999997 41.26237000000003)        6233   811404   \n",
       "8965  POINT (-69.97302999999994 41.26221000000004)        6234   811405   \n",
       "8966  POINT (-71.00668899999994 41.63204100000007)        6629   798770   \n",
       "8967  POINT (-71.00421565299996 41.62854837300006)        7480   810125   \n",
       "8968  POINT (-71.07355799999993 42.05490200000003)         377   799544   \n",
       "\n",
       "     stop_code                         stop_name   stop_lat   stop_lon  \\\n",
       "0          NaN             Provincetown Monument  42.052767 -70.189228   \n",
       "1         75.0      MacMillan Pier, Provincetown  42.050958 -70.186240   \n",
       "2         76.0         Stop & Shop, Provincetown  42.050534 -70.195276   \n",
       "3         90.0        Beech Forest, Provincetown  42.065630 -70.192717   \n",
       "4         91.0  Herring Cove Beach, Provincetown  42.043813 -70.216447   \n",
       "...        ...                               ...        ...        ...   \n",
       "8964     193.0     Sconset Golf Course (Inbound)  41.262370 -69.984860   \n",
       "8965     194.0              New Street (Inbound)  41.262210 -69.973030   \n",
       "8966    5352.0      Umass Dartmouth at Ring Road  41.632041 -71.006689   \n",
       "8967    5009.0     Umass Dartmouth Campus Center  41.628548 -71.004216   \n",
       "8968     485.0   Belmont St at Stonehill College  42.054902 -71.073558   \n",
       "\n",
       "     stop_url  location_type parent_station  wheelchair_boarding  \\\n",
       "0         NaN            0.0            NaN                  0.0   \n",
       "1         NaN            0.0            NaN                  0.0   \n",
       "2         NaN            0.0            NaN                  0.0   \n",
       "3         NaN            0.0            NaN                  0.0   \n",
       "4         NaN            0.0            NaN                  0.0   \n",
       "...       ...            ...            ...                  ...   \n",
       "8964      NaN            0.0            NaN                  0.0   \n",
       "8965      NaN            0.0            NaN                  0.0   \n",
       "8966      NaN            0.0            NaN                  0.0   \n",
       "8967      NaN            0.0            NaN                  0.0   \n",
       "8968      NaN            0.0            NaN                  0.0   \n",
       "\n",
       "               Agency  median_household_income  county  population  route  \\\n",
       "0          CapeCodRTA                  50741.0       1         300    NaN   \n",
       "1          CapeCodRTA                  50741.0       1         300    NaN   \n",
       "2          CapeCodRTA                  50741.0       1         300    NaN   \n",
       "3          CapeCodRTA                  50741.0       1         300    NaN   \n",
       "4          CapeCodRTA                  50741.0       1         300    NaN   \n",
       "...               ...                      ...     ...         ...    ...   \n",
       "8964  MontachusettRTA                 106648.0      19         150    NaN   \n",
       "8965  MontachusettRTA                 106648.0      19         150    NaN   \n",
       "8966  SoutheasternRTA                  83229.0       5         750    NaN   \n",
       "8967  SoutheasternRTA                  83229.0       5         750    NaN   \n",
       "8968  BrocktonAreaRTA                 121711.0       5         600    NaN   \n",
       "\n",
       "      OBJECTID_y                                    geometry_y route_id  \n",
       "0           6294   POINT (-7813429.08796164 5168886.966856966)     2982  \n",
       "1           6378  POINT (-7813096.497494482 5168615.764336213)     2980  \n",
       "2           6379  POINT (-7814102.380413295 5168552.200477044)     2980  \n",
       "3           6392  POINT (-7813817.513836353 5170815.575161857)     2982  \n",
       "4           6393  POINT (-7816459.125352878 5167544.680021845)     2982  \n",
       "...          ...                                           ...      ...  \n",
       "8964        6233  POINT (-7790678.978438536 5051118.544616343)     2887  \n",
       "8965        6234   POINT (-7789362.068862449 5051094.85011403)     2887  \n",
       "8966        6629   POINT (-7904428.462396332 5106019.34328528)     2909  \n",
       "8967        7480   POINT (-7904153.13066774 5105499.175981934)     2909  \n",
       "8968         377  POINT (-7911872.285426188 5169207.048489005)     2941  \n",
       "\n",
       "[8969 rows x 19 columns]"
      ],
      "text/html": "<div>\n<style scoped>\n    .dataframe tbody tr th:only-of-type {\n        vertical-align: middle;\n    }\n\n    .dataframe tbody tr th {\n        vertical-align: top;\n    }\n\n    .dataframe thead th {\n        text-align: right;\n    }\n</style>\n<table border=\"1\" class=\"dataframe\">\n  <thead>\n    <tr style=\"text-align: right;\">\n      <th></th>\n      <th>geometry_x</th>\n      <th>OBJECTID_x</th>\n      <th>stop_id</th>\n      <th>stop_code</th>\n      <th>stop_name</th>\n      <th>stop_lat</th>\n      <th>stop_lon</th>\n      <th>stop_url</th>\n      <th>location_type</th>\n      <th>parent_station</th>\n      <th>wheelchair_boarding</th>\n      <th>Agency</th>\n      <th>median_household_income</th>\n      <th>county</th>\n      <th>population</th>\n      <th>route</th>\n      <th>OBJECTID_y</th>\n      <th>geometry_y</th>\n      <th>route_id</th>\n    </tr>\n  </thead>\n  <tbody>\n    <tr>\n      <th>0</th>\n      <td>POINT (-70.18922771099994 42.05276701300005)</td>\n      <td>6294</td>\n      <td>2455484</td>\n      <td>NaN</td>\n      <td>Provincetown Monument</td>\n      <td>42.052767</td>\n      <td>-70.189228</td>\n      <td>NaN</td>\n      <td>0.0</td>\n      <td>NaN</td>\n      <td>0.0</td>\n      <td>CapeCodRTA</td>\n      <td>50741.0</td>\n      <td>1</td>\n      <td>300</td>\n      <td>NaN</td>\n      <td>6294</td>\n      <td>POINT (-7813429.08796164 5168886.966856966)</td>\n      <td>2982</td>\n    </tr>\n    <tr>\n      <th>1</th>\n      <td>POINT (-70.18623999999994 42.05095800000004)</td>\n      <td>6378</td>\n      <td>800616</td>\n      <td>75.0</td>\n      <td>MacMillan Pier, Provincetown</td>\n      <td>42.050958</td>\n      <td>-70.186240</td>\n      <td>NaN</td>\n      <td>0.0</td>\n      <td>NaN</td>\n      <td>0.0</td>\n      <td>CapeCodRTA</td>\n      <td>50741.0</td>\n      <td>1</td>\n      <td>300</td>\n      <td>NaN</td>\n      <td>6378</td>\n      <td>POINT (-7813096.497494482 5168615.764336213)</td>\n      <td>2980</td>\n    </tr>\n    <tr>\n      <th>2</th>\n      <td>POINT (-70.19527599999998 42.05053400000003)</td>\n      <td>6379</td>\n      <td>800617</td>\n      <td>76.0</td>\n      <td>Stop &amp; Shop, Provincetown</td>\n      <td>42.050534</td>\n      <td>-70.195276</td>\n      <td>NaN</td>\n      <td>0.0</td>\n      <td>NaN</td>\n      <td>0.0</td>\n      <td>CapeCodRTA</td>\n      <td>50741.0</td>\n      <td>1</td>\n      <td>300</td>\n      <td>NaN</td>\n      <td>6379</td>\n      <td>POINT (-7814102.380413295 5168552.200477044)</td>\n      <td>2980</td>\n    </tr>\n    <tr>\n      <th>3</th>\n      <td>POINT (-70.19271699999996 42.06563000000006)</td>\n      <td>6392</td>\n      <td>800631</td>\n      <td>90.0</td>\n      <td>Beech Forest, Provincetown</td>\n      <td>42.065630</td>\n      <td>-70.192717</td>\n      <td>NaN</td>\n      <td>0.0</td>\n      <td>NaN</td>\n      <td>0.0</td>\n      <td>CapeCodRTA</td>\n      <td>50741.0</td>\n      <td>1</td>\n      <td>300</td>\n      <td>NaN</td>\n      <td>6392</td>\n      <td>POINT (-7813817.513836353 5170815.575161857)</td>\n      <td>2982</td>\n    </tr>\n    <tr>\n      <th>4</th>\n      <td>POINT (-70.21644699999996 42.04381300000006)</td>\n      <td>6393</td>\n      <td>800632</td>\n      <td>91.0</td>\n      <td>Herring Cove Beach, Provincetown</td>\n      <td>42.043813</td>\n      <td>-70.216447</td>\n      <td>NaN</td>\n      <td>0.0</td>\n      <td>NaN</td>\n      <td>0.0</td>\n      <td>CapeCodRTA</td>\n      <td>50741.0</td>\n      <td>1</td>\n      <td>300</td>\n      <td>NaN</td>\n      <td>6393</td>\n      <td>POINT (-7816459.125352878 5167544.680021845)</td>\n      <td>2982</td>\n    </tr>\n    <tr>\n      <th>...</th>\n      <td>...</td>\n      <td>...</td>\n      <td>...</td>\n      <td>...</td>\n      <td>...</td>\n      <td>...</td>\n      <td>...</td>\n      <td>...</td>\n      <td>...</td>\n      <td>...</td>\n      <td>...</td>\n      <td>...</td>\n      <td>...</td>\n      <td>...</td>\n      <td>...</td>\n      <td>...</td>\n      <td>...</td>\n      <td>...</td>\n      <td>...</td>\n    </tr>\n    <tr>\n      <th>8964</th>\n      <td>POINT (-69.98485999999997 41.26237000000003)</td>\n      <td>6233</td>\n      <td>811404</td>\n      <td>193.0</td>\n      <td>Sconset Golf Course (Inbound)</td>\n      <td>41.262370</td>\n      <td>-69.984860</td>\n      <td>NaN</td>\n      <td>0.0</td>\n      <td>NaN</td>\n      <td>0.0</td>\n      <td>MontachusettRTA</td>\n      <td>106648.0</td>\n      <td>19</td>\n      <td>150</td>\n      <td>NaN</td>\n      <td>6233</td>\n      <td>POINT (-7790678.978438536 5051118.544616343)</td>\n      <td>2887</td>\n    </tr>\n    <tr>\n      <th>8965</th>\n      <td>POINT (-69.97302999999994 41.26221000000004)</td>\n      <td>6234</td>\n      <td>811405</td>\n      <td>194.0</td>\n      <td>New Street (Inbound)</td>\n      <td>41.262210</td>\n      <td>-69.973030</td>\n      <td>NaN</td>\n      <td>0.0</td>\n      <td>NaN</td>\n      <td>0.0</td>\n      <td>MontachusettRTA</td>\n      <td>106648.0</td>\n      <td>19</td>\n      <td>150</td>\n      <td>NaN</td>\n      <td>6234</td>\n      <td>POINT (-7789362.068862449 5051094.85011403)</td>\n      <td>2887</td>\n    </tr>\n    <tr>\n      <th>8966</th>\n      <td>POINT (-71.00668899999994 41.63204100000007)</td>\n      <td>6629</td>\n      <td>798770</td>\n      <td>5352.0</td>\n      <td>Umass Dartmouth at Ring Road</td>\n      <td>41.632041</td>\n      <td>-71.006689</td>\n      <td>NaN</td>\n      <td>0.0</td>\n      <td>NaN</td>\n      <td>0.0</td>\n      <td>SoutheasternRTA</td>\n      <td>83229.0</td>\n      <td>5</td>\n      <td>750</td>\n      <td>NaN</td>\n      <td>6629</td>\n      <td>POINT (-7904428.462396332 5106019.34328528)</td>\n      <td>2909</td>\n    </tr>\n    <tr>\n      <th>8967</th>\n      <td>POINT (-71.00421565299996 41.62854837300006)</td>\n      <td>7480</td>\n      <td>810125</td>\n      <td>5009.0</td>\n      <td>Umass Dartmouth Campus Center</td>\n      <td>41.628548</td>\n      <td>-71.004216</td>\n      <td>NaN</td>\n      <td>0.0</td>\n      <td>NaN</td>\n      <td>0.0</td>\n      <td>SoutheasternRTA</td>\n      <td>83229.0</td>\n      <td>5</td>\n      <td>750</td>\n      <td>NaN</td>\n      <td>7480</td>\n      <td>POINT (-7904153.13066774 5105499.175981934)</td>\n      <td>2909</td>\n    </tr>\n    <tr>\n      <th>8968</th>\n      <td>POINT (-71.07355799999993 42.05490200000003)</td>\n      <td>377</td>\n      <td>799544</td>\n      <td>485.0</td>\n      <td>Belmont St at Stonehill College</td>\n      <td>42.054902</td>\n      <td>-71.073558</td>\n      <td>NaN</td>\n      <td>0.0</td>\n      <td>NaN</td>\n      <td>0.0</td>\n      <td>BrocktonAreaRTA</td>\n      <td>121711.0</td>\n      <td>5</td>\n      <td>600</td>\n      <td>NaN</td>\n      <td>377</td>\n      <td>POINT (-7911872.285426188 5169207.048489005)</td>\n      <td>2941</td>\n    </tr>\n  </tbody>\n</table>\n<p>8969 rows × 19 columns</p>\n</div>"
     },
     "metadata": {},
     "execution_count": 9
    }
   ],
   "source": [
    "result"
   ]
  },
  {
   "cell_type": "code",
   "execution_count": 13,
   "metadata": {},
   "outputs": [],
   "source": [
    "result.to_csv('../data/result.csv') \n",
    "# has bus stop, route, population, income\n",
    "# need ridership"
   ]
  },
  {
   "cell_type": "code",
   "execution_count": null,
   "metadata": {},
   "outputs": [],
   "source": []
  }
 ]
}