{
 "cells": [
  {
   "cell_type": "code",
   "execution_count": 1,
   "metadata": {},
   "outputs": [],
   "source": [
    "import geopandas as gpd\n",
    "\n",
    "# Filepath\n",
    "bus_routes_fp = \"../RTA_Bus_Routes-shp/RTA_Bus_Routes.shp\"\n",
    "bus_stops_fp = \"../RTA_Bus_Stops-shp/RTA_Bus_Stops.shp\"\n",
    "\n",
    "# Read the data\n",
    "bus_routes_df = gpd.read_file(bus_routes_fp)\n",
    "bus_stops_df = gpd.read_file(bus_stops_fp)"
   ]
  },
  {
   "cell_type": "code",
   "execution_count": 2,
   "metadata": {},
   "outputs": [
    {
     "name": "stdout",
     "output_type": "stream",
     "text": [
      "<class 'geopandas.geodataframe.GeoDataFrame'>\n",
      "RangeIndex: 1202 entries, 0 to 1201\n",
      "Data columns (total 20 columns):\n",
      " #   Column      Non-Null Count  Dtype   \n",
      "---  ------      --------------  -----   \n",
      " 0   OBJECTID    1202 non-null   int64   \n",
      " 1   shape_id    1202 non-null   object  \n",
      " 2   agency_id   673 non-null    object  \n",
      " 3   route_id    1202 non-null   object  \n",
      " 4   route_shor  1100 non-null   object  \n",
      " 5   route_long  1202 non-null   object  \n",
      " 6   route_desc  299 non-null    object  \n",
      " 7   route_type  1202 non-null   object  \n",
      " 8   route_url   513 non-null    object  \n",
      " 9   route_colo  609 non-null    object  \n",
      " 10  route_text  603 non-null    object  \n",
      " 11  route_sort  549 non-null    object  \n",
      " 12  min_headwa  263 non-null    object  \n",
      " 13  eligibilit  549 non-null    object  \n",
      " 14  continuous  549 non-null    object  \n",
      " 15  continuo_1  549 non-null    object  \n",
      " 16  route_ty_1  1202 non-null   object  \n",
      " 17  Agency      1202 non-null   object  \n",
      " 18  ShapeSTLen  1202 non-null   float64 \n",
      " 19  geometry    1202 non-null   geometry\n",
      "dtypes: float64(1), geometry(1), int64(1), object(17)\n",
      "memory usage: 187.9+ KB\n"
     ]
    }
   ],
   "source": [
    "bus_routes_df.info()"
   ]
  },
  {
   "cell_type": "code",
   "execution_count": 3,
   "metadata": {},
   "outputs": [
    {
     "data": {
      "text/html": [
       "<div>\n",
       "<style scoped>\n",
       "    .dataframe tbody tr th:only-of-type {\n",
       "        vertical-align: middle;\n",
       "    }\n",
       "\n",
       "    .dataframe tbody tr th {\n",
       "        vertical-align: top;\n",
       "    }\n",
       "\n",
       "    .dataframe thead th {\n",
       "        text-align: right;\n",
       "    }\n",
       "</style>\n",
       "<table border=\"1\" class=\"dataframe\">\n",
       "  <thead>\n",
       "    <tr style=\"text-align: right;\">\n",
       "      <th></th>\n",
       "      <th>OBJECTID</th>\n",
       "      <th>geometry</th>\n",
       "      <th>route_id</th>\n",
       "    </tr>\n",
       "  </thead>\n",
       "  <tbody>\n",
       "    <tr>\n",
       "      <th>0</th>\n",
       "      <td>1</td>\n",
       "      <td>LINESTRING (-7905400.282 5173762.247, -7905403...</td>\n",
       "      <td>2933</td>\n",
       "    </tr>\n",
       "    <tr>\n",
       "      <th>1</th>\n",
       "      <td>2</td>\n",
       "      <td>LINESTRING (-7905427.444 5173767.197, -7905430...</td>\n",
       "      <td>2934</td>\n",
       "    </tr>\n",
       "    <tr>\n",
       "      <th>2</th>\n",
       "      <td>3</td>\n",
       "      <td>LINESTRING (-7905402.313 5173769.844, -7905400...</td>\n",
       "      <td>2935</td>\n",
       "    </tr>\n",
       "    <tr>\n",
       "      <th>3</th>\n",
       "      <td>4</td>\n",
       "      <td>LINESTRING (-7905400.273 5173765.107, -7905401...</td>\n",
       "      <td>2935</td>\n",
       "    </tr>\n",
       "    <tr>\n",
       "      <th>4</th>\n",
       "      <td>5</td>\n",
       "      <td>LINESTRING (-7905400.273 5173765.107, -7905401...</td>\n",
       "      <td>2940</td>\n",
       "    </tr>\n",
       "    <tr>\n",
       "      <th>...</th>\n",
       "      <td>...</td>\n",
       "      <td>...</td>\n",
       "      <td>...</td>\n",
       "    </tr>\n",
       "    <tr>\n",
       "      <th>1197</th>\n",
       "      <td>1198</td>\n",
       "      <td>LINESTRING (-7865747.917 5253340.492, -7865795...</td>\n",
       "      <td>2845</td>\n",
       "    </tr>\n",
       "    <tr>\n",
       "      <th>1198</th>\n",
       "      <td>1199</td>\n",
       "      <td>LINESTRING (-7871919.164 5247832.369, -7871781...</td>\n",
       "      <td>2845</td>\n",
       "    </tr>\n",
       "    <tr>\n",
       "      <th>1199</th>\n",
       "      <td>1200</td>\n",
       "      <td>LINESTRING (-7865747.917 5253340.492, -7865795...</td>\n",
       "      <td>2847</td>\n",
       "    </tr>\n",
       "    <tr>\n",
       "      <th>1200</th>\n",
       "      <td>1201</td>\n",
       "      <td>LINESTRING (-7893574.589 5244817.837, -7893562...</td>\n",
       "      <td>3241</td>\n",
       "    </tr>\n",
       "    <tr>\n",
       "      <th>1201</th>\n",
       "      <td>1202</td>\n",
       "      <td>LINESTRING (-7893574.589 5244817.837, -7893562...</td>\n",
       "      <td>3241</td>\n",
       "    </tr>\n",
       "  </tbody>\n",
       "</table>\n",
       "<p>1202 rows × 3 columns</p>\n",
       "</div>"
      ],
      "text/plain": [
       "      OBJECTID                                           geometry route_id\n",
       "0            1  LINESTRING (-7905400.282 5173762.247, -7905403...     2933\n",
       "1            2  LINESTRING (-7905427.444 5173767.197, -7905430...     2934\n",
       "2            3  LINESTRING (-7905402.313 5173769.844, -7905400...     2935\n",
       "3            4  LINESTRING (-7905400.273 5173765.107, -7905401...     2935\n",
       "4            5  LINESTRING (-7905400.273 5173765.107, -7905401...     2940\n",
       "...        ...                                                ...      ...\n",
       "1197      1198  LINESTRING (-7865747.917 5253340.492, -7865795...     2845\n",
       "1198      1199  LINESTRING (-7871919.164 5247832.369, -7871781...     2845\n",
       "1199      1200  LINESTRING (-7865747.917 5253340.492, -7865795...     2847\n",
       "1200      1201  LINESTRING (-7893574.589 5244817.837, -7893562...     3241\n",
       "1201      1202  LINESTRING (-7893574.589 5244817.837, -7893562...     3241\n",
       "\n",
       "[1202 rows x 3 columns]"
      ]
     },
     "execution_count": 3,
     "metadata": {},
     "output_type": "execute_result"
    }
   ],
   "source": [
    "routes = bus_routes_df[['OBJECTID','geometry','route_id']]\n",
    "routes"
   ]
  },
  {
   "cell_type": "code",
   "execution_count": 4,
   "metadata": {},
   "outputs": [
    {
     "data": {
      "text/html": [
       "<div>\n",
       "<style scoped>\n",
       "    .dataframe tbody tr th:only-of-type {\n",
       "        vertical-align: middle;\n",
       "    }\n",
       "\n",
       "    .dataframe tbody tr th {\n",
       "        vertical-align: top;\n",
       "    }\n",
       "\n",
       "    .dataframe thead th {\n",
       "        text-align: right;\n",
       "    }\n",
       "</style>\n",
       "<table border=\"1\" class=\"dataframe\">\n",
       "  <thead>\n",
       "    <tr style=\"text-align: right;\">\n",
       "      <th></th>\n",
       "      <th>OBJECTID</th>\n",
       "      <th>geometry</th>\n",
       "      <th>stop_id</th>\n",
       "    </tr>\n",
       "  </thead>\n",
       "  <tbody>\n",
       "    <tr>\n",
       "      <th>0</th>\n",
       "      <td>1</td>\n",
       "      <td>POINT (-7909492.270 5175061.965)</td>\n",
       "      <td>2537977</td>\n",
       "    </tr>\n",
       "    <tr>\n",
       "      <th>1</th>\n",
       "      <td>2</td>\n",
       "      <td>POINT (-7907825.375 5174323.435)</td>\n",
       "      <td>2558590</td>\n",
       "    </tr>\n",
       "    <tr>\n",
       "      <th>2</th>\n",
       "      <td>3</td>\n",
       "      <td>POINT (-7907841.345 5174327.000)</td>\n",
       "      <td>2558591</td>\n",
       "    </tr>\n",
       "    <tr>\n",
       "      <th>3</th>\n",
       "      <td>4</td>\n",
       "      <td>POINT (-7907841.639 5174594.527)</td>\n",
       "      <td>2558592</td>\n",
       "    </tr>\n",
       "    <tr>\n",
       "      <th>4</th>\n",
       "      <td>5</td>\n",
       "      <td>POINT (-7907873.991 5174751.647)</td>\n",
       "      <td>2558593</td>\n",
       "    </tr>\n",
       "    <tr>\n",
       "      <th>...</th>\n",
       "      <td>...</td>\n",
       "      <td>...</td>\n",
       "      <td>...</td>\n",
       "    </tr>\n",
       "    <tr>\n",
       "      <th>8981</th>\n",
       "      <td>8982</td>\n",
       "      <td>POINT (-7959589.474 5183502.633)</td>\n",
       "      <td>9833f5b5-c43d-426b-a30e-47eb67028541</td>\n",
       "    </tr>\n",
       "    <tr>\n",
       "      <th>8982</th>\n",
       "      <td>8983</td>\n",
       "      <td>POINT (-7958162.550 5183153.670)</td>\n",
       "      <td>fe2c5c3a-fcd2-4680-abe7-bb8df71f6679</td>\n",
       "    </tr>\n",
       "    <tr>\n",
       "      <th>8983</th>\n",
       "      <td>8984</td>\n",
       "      <td>POINT (-7961200.746 5182393.493)</td>\n",
       "      <td>95b0813c-9c53-42bd-9317-8219d6e4e2e7</td>\n",
       "    </tr>\n",
       "    <tr>\n",
       "      <th>8984</th>\n",
       "      <td>8985</td>\n",
       "      <td>POINT (-7938489.270 5206827.598)</td>\n",
       "      <td>f8c065d2-6308-4b92-8eef-2383dd3b96ec</td>\n",
       "    </tr>\n",
       "    <tr>\n",
       "      <th>8985</th>\n",
       "      <td>8986</td>\n",
       "      <td>POINT (-7966469.106 5215565.810)</td>\n",
       "      <td>d384d765-ab47-41c1-bbee-b50867625a37</td>\n",
       "    </tr>\n",
       "  </tbody>\n",
       "</table>\n",
       "<p>8986 rows × 3 columns</p>\n",
       "</div>"
      ],
      "text/plain": [
       "      OBJECTID                          geometry  \\\n",
       "0            1  POINT (-7909492.270 5175061.965)   \n",
       "1            2  POINT (-7907825.375 5174323.435)   \n",
       "2            3  POINT (-7907841.345 5174327.000)   \n",
       "3            4  POINT (-7907841.639 5174594.527)   \n",
       "4            5  POINT (-7907873.991 5174751.647)   \n",
       "...        ...                               ...   \n",
       "8981      8982  POINT (-7959589.474 5183502.633)   \n",
       "8982      8983  POINT (-7958162.550 5183153.670)   \n",
       "8983      8984  POINT (-7961200.746 5182393.493)   \n",
       "8984      8985  POINT (-7938489.270 5206827.598)   \n",
       "8985      8986  POINT (-7966469.106 5215565.810)   \n",
       "\n",
       "                                   stop_id  \n",
       "0                                  2537977  \n",
       "1                                  2558590  \n",
       "2                                  2558591  \n",
       "3                                  2558592  \n",
       "4                                  2558593  \n",
       "...                                    ...  \n",
       "8981  9833f5b5-c43d-426b-a30e-47eb67028541  \n",
       "8982  fe2c5c3a-fcd2-4680-abe7-bb8df71f6679  \n",
       "8983  95b0813c-9c53-42bd-9317-8219d6e4e2e7  \n",
       "8984  f8c065d2-6308-4b92-8eef-2383dd3b96ec  \n",
       "8985  d384d765-ab47-41c1-bbee-b50867625a37  \n",
       "\n",
       "[8986 rows x 3 columns]"
      ]
     },
     "execution_count": 4,
     "metadata": {},
     "output_type": "execute_result"
    }
   ],
   "source": [
    "stops = bus_stops_df[['OBJECTID','geometry','stop_id']]\n",
    "stops"
   ]
  },
  {
   "cell_type": "code",
   "execution_count": 5,
   "metadata": {},
   "outputs": [
    {
     "data": {
      "text/plain": [
       "<Projected CRS: EPSG:3857>\n",
       "Name: WGS 84 / Pseudo-Mercator\n",
       "Axis Info [cartesian]:\n",
       "- X[east]: Easting (metre)\n",
       "- Y[north]: Northing (metre)\n",
       "Area of Use:\n",
       "- name: World - 85°S to 85°N\n",
       "- bounds: (-180.0, -85.06, 180.0, 85.06)\n",
       "Coordinate Operation:\n",
       "- name: Popular Visualisation Pseudo-Mercator\n",
       "- method: Popular Visualisation Pseudo Mercator\n",
       "Datum: World Geodetic System 1984\n",
       "- Ellipsoid: WGS 84\n",
       "- Prime Meridian: Greenwich"
      ]
     },
     "execution_count": 5,
     "metadata": {},
     "output_type": "execute_result"
    }
   ],
   "source": [
    "routes.crs"
   ]
  },
  {
   "cell_type": "code",
   "execution_count": 6,
   "metadata": {},
   "outputs": [
    {
     "data": {
      "text/plain": [
       "<Projected CRS: EPSG:3857>\n",
       "Name: WGS 84 / Pseudo-Mercator\n",
       "Axis Info [cartesian]:\n",
       "- X[east]: Easting (metre)\n",
       "- Y[north]: Northing (metre)\n",
       "Area of Use:\n",
       "- name: World - 85°S to 85°N\n",
       "- bounds: (-180.0, -85.06, 180.0, 85.06)\n",
       "Coordinate Operation:\n",
       "- name: Popular Visualisation Pseudo-Mercator\n",
       "- method: Popular Visualisation Pseudo Mercator\n",
       "Datum: World Geodetic System 1984\n",
       "- Ellipsoid: WGS 84\n",
       "- Prime Meridian: Greenwich"
      ]
     },
     "execution_count": 6,
     "metadata": {},
     "output_type": "execute_result"
    }
   ],
   "source": [
    "stops.crs"
   ]
  },
  {
   "cell_type": "code",
   "execution_count": 7,
   "metadata": {},
   "outputs": [
    {
     "name": "stdout",
     "output_type": "stream",
     "text": [
      "<class 'geopandas.geodataframe.GeoDataFrame'>\n",
      "RangeIndex: 8986 entries, 0 to 8985\n",
      "Data columns (total 3 columns):\n",
      " #   Column    Non-Null Count  Dtype   \n",
      "---  ------    --------------  -----   \n",
      " 0   OBJECTID  8986 non-null   int64   \n",
      " 1   geometry  8986 non-null   geometry\n",
      " 2   stop_id   8986 non-null   object  \n",
      "dtypes: geometry(1), int64(1), object(1)\n",
      "memory usage: 210.7+ KB\n"
     ]
    }
   ],
   "source": [
    "stops.info()"
   ]
  },
  {
   "cell_type": "code",
   "execution_count": 8,
   "metadata": {},
   "outputs": [
    {
     "data": {
      "text/plain": [
       "<AxesSubplot:>"
      ]
     },
     "execution_count": 8,
     "metadata": {},
     "output_type": "execute_result"
    },
    {
     "data": {
      "image/png": "[encoded data removed]",
      "text/plain": [
       "<Figure size 432x288 with 1 Axes>"
      ]
     },
     "metadata": {
      "needs_background": "light"
     },
     "output_type": "display_data"
    }
   ],
   "source": [
    "stops.plot()"
   ]
  },
  {
   "cell_type": "code",
   "execution_count": 9,
   "metadata": {
    "tags": []
   },
   "outputs": [
    {
     "name": "stdout",
     "output_type": "stream",
     "text": [
      "POINT (-7813096.497494482 5168615.764336213)\n"
     ]
    }
   ],
   "source": [
    "test_route = routes.loc[routes['route_id'].astype(str) == '2982']\n",
    "test_stop = stops.loc[stops['stop_id'].astype(str) == '800616']\n",
    "\n",
    "line = test_route['geometry'].iloc[0]\n",
    "stop = test_stop['geometry'].iloc[0]\n",
    "\n",
    "print(stop)"
   ]
  },
  {
   "cell_type": "code",
   "execution_count": 10,
   "metadata": {},
   "outputs": [
    {
     "data": {
      "text/plain": [
       "True"
      ]
     },
     "execution_count": 10,
     "metadata": {},
     "output_type": "execute_result"
    }
   ],
   "source": [
    "line.distance(stop) < 100"
   ]
  },
  {
   "cell_type": "code",
   "execution_count": 11,
   "metadata": {
    "tags": []
   },
   "outputs": [],
   "source": [
    "mapped_routes = [-1] * stops.size"
   ]
  },
  {
   "cell_type": "code",
   "execution_count": 12,
   "metadata": {},
   "outputs": [],
   "source": [
    "for index, row in routes.iterrows():\n",
    "    line = row['geometry']\n",
    "    for index2, row2 in stops.iterrows():\n",
    "        stop = row2['geometry']\n",
    "\n",
    "        if line.distance(stop) < 100:\n",
    "            mapped_routes[index2] = row['route_id']"
   ]
  },
  {
   "cell_type": "code",
   "execution_count": 13,
   "metadata": {},
   "outputs": [
    {
     "name": "stderr",
     "output_type": "stream",
     "text": [
      "<ipython-input-13-7c8286a6daae>:1: FutureWarning:     You are passing non-geometry data to the GeoSeries constructor. Currently,\n",
      "    it falls back to returning a pandas Series. But in the future, we will start\n",
      "    to raise a TypeError instead.\n",
      "  mapped_routes_df = gpd.GeoSeries(mapped_routes)\n"
     ]
    }
   ],
   "source": [
    "mapped_routes_df = gpd.GeoSeries(mapped_routes)"
   ]
  },
  {
   "cell_type": "code",
   "execution_count": 14,
   "metadata": {},
   "outputs": [
    {
     "name": "stderr",
     "output_type": "stream",
     "text": [
      "/Library/Frameworks/Python.framework/Versions/3.8/lib/python3.8/site-packages/geopandas/geodataframe.py:853: SettingWithCopyWarning: \n",
      "A value is trying to be set on a copy of a slice from a DataFrame.\n",
      "Try using .loc[row_indexer,col_indexer] = value instead\n",
      "\n",
      "See the caveats in the documentation: https://pandas.pydata.org/pandas-docs/stable/user_guide/indexing.html#returning-a-view-versus-a-copy\n",
      "  super(GeoDataFrame, self).__setitem__(key, value)\n"
     ]
    }
   ],
   "source": [
    "stops['route_id'] = mapped_routes[0:8986]"
   ]
  },
  {
   "cell_type": "code",
   "execution_count": 15,
   "metadata": {},
   "outputs": [
    {
     "data": {
      "text/html": [
       "<div>\n",
       "<style scoped>\n",
       "    .dataframe tbody tr th:only-of-type {\n",
       "        vertical-align: middle;\n",
       "    }\n",
       "\n",
       "    .dataframe tbody tr th {\n",
       "        vertical-align: top;\n",
       "    }\n",
       "\n",
       "    .dataframe thead th {\n",
       "        text-align: right;\n",
       "    }\n",
       "</style>\n",
       "<table border=\"1\" class=\"dataframe\">\n",
       "  <thead>\n",
       "    <tr style=\"text-align: right;\">\n",
       "      <th></th>\n",
       "      <th>OBJECTID</th>\n",
       "      <th>geometry</th>\n",
       "      <th>stop_id</th>\n",
       "      <th>route_id</th>\n",
       "    </tr>\n",
       "  </thead>\n",
       "  <tbody>\n",
       "    <tr>\n",
       "      <th>0</th>\n",
       "      <td>1</td>\n",
       "      <td>POINT (-7909492.270 5175061.965)</td>\n",
       "      <td>2537977</td>\n",
       "      <td>2937</td>\n",
       "    </tr>\n",
       "    <tr>\n",
       "      <th>1</th>\n",
       "      <td>2</td>\n",
       "      <td>POINT (-7907825.375 5174323.435)</td>\n",
       "      <td>2558590</td>\n",
       "      <td>2936</td>\n",
       "    </tr>\n",
       "    <tr>\n",
       "      <th>2</th>\n",
       "      <td>3</td>\n",
       "      <td>POINT (-7907841.345 5174327.000)</td>\n",
       "      <td>2558591</td>\n",
       "      <td>2936</td>\n",
       "    </tr>\n",
       "    <tr>\n",
       "      <th>3</th>\n",
       "      <td>4</td>\n",
       "      <td>POINT (-7907841.639 5174594.527)</td>\n",
       "      <td>2558592</td>\n",
       "      <td>2946</td>\n",
       "    </tr>\n",
       "    <tr>\n",
       "      <th>4</th>\n",
       "      <td>5</td>\n",
       "      <td>POINT (-7907873.991 5174751.647)</td>\n",
       "      <td>2558593</td>\n",
       "      <td>2946</td>\n",
       "    </tr>\n",
       "    <tr>\n",
       "      <th>...</th>\n",
       "      <td>...</td>\n",
       "      <td>...</td>\n",
       "      <td>...</td>\n",
       "      <td>...</td>\n",
       "    </tr>\n",
       "    <tr>\n",
       "      <th>8981</th>\n",
       "      <td>8982</td>\n",
       "      <td>POINT (-7959589.474 5183502.633)</td>\n",
       "      <td>9833f5b5-c43d-426b-a30e-47eb67028541</td>\n",
       "      <td>1b2be85e-a5c2-4bc7-a310-1eb635c356e9</td>\n",
       "    </tr>\n",
       "    <tr>\n",
       "      <th>8982</th>\n",
       "      <td>8983</td>\n",
       "      <td>POINT (-7958162.550 5183153.670)</td>\n",
       "      <td>fe2c5c3a-fcd2-4680-abe7-bb8df71f6679</td>\n",
       "      <td>1b2be85e-a5c2-4bc7-a310-1eb635c356e9</td>\n",
       "    </tr>\n",
       "    <tr>\n",
       "      <th>8983</th>\n",
       "      <td>8984</td>\n",
       "      <td>POINT (-7961200.746 5182393.493)</td>\n",
       "      <td>95b0813c-9c53-42bd-9317-8219d6e4e2e7</td>\n",
       "      <td>1b2be85e-a5c2-4bc7-a310-1eb635c356e9</td>\n",
       "    </tr>\n",
       "    <tr>\n",
       "      <th>8984</th>\n",
       "      <td>8985</td>\n",
       "      <td>POINT (-7938489.270 5206827.598)</td>\n",
       "      <td>f8c065d2-6308-4b92-8eef-2383dd3b96ec</td>\n",
       "      <td>e2065400-eaa5-4f9d-9f3e-1354a20642ec</td>\n",
       "    </tr>\n",
       "    <tr>\n",
       "      <th>8985</th>\n",
       "      <td>8986</td>\n",
       "      <td>POINT (-7966469.106 5215565.810)</td>\n",
       "      <td>d384d765-ab47-41c1-bbee-b50867625a37</td>\n",
       "      <td>868a28db-bf9c-4ba3-bdc0-7fe40197fe66</td>\n",
       "    </tr>\n",
       "  </tbody>\n",
       "</table>\n",
       "<p>8986 rows × 4 columns</p>\n",
       "</div>"
      ],
      "text/plain": [
       "      OBJECTID                          geometry  \\\n",
       "0            1  POINT (-7909492.270 5175061.965)   \n",
       "1            2  POINT (-7907825.375 5174323.435)   \n",
       "2            3  POINT (-7907841.345 5174327.000)   \n",
       "3            4  POINT (-7907841.639 5174594.527)   \n",
       "4            5  POINT (-7907873.991 5174751.647)   \n",
       "...        ...                               ...   \n",
       "8981      8982  POINT (-7959589.474 5183502.633)   \n",
       "8982      8983  POINT (-7958162.550 5183153.670)   \n",
       "8983      8984  POINT (-7961200.746 5182393.493)   \n",
       "8984      8985  POINT (-7938489.270 5206827.598)   \n",
       "8985      8986  POINT (-7966469.106 5215565.810)   \n",
       "\n",
       "                                   stop_id  \\\n",
       "0                                  2537977   \n",
       "1                                  2558590   \n",
       "2                                  2558591   \n",
       "3                                  2558592   \n",
       "4                                  2558593   \n",
       "...                                    ...   \n",
       "8981  9833f5b5-c43d-426b-a30e-47eb67028541   \n",
       "8982  fe2c5c3a-fcd2-4680-abe7-bb8df71f6679   \n",
       "8983  95b0813c-9c53-42bd-9317-8219d6e4e2e7   \n",
       "8984  f8c065d2-6308-4b92-8eef-2383dd3b96ec   \n",
       "8985  d384d765-ab47-41c1-bbee-b50867625a37   \n",
       "\n",
       "                                  route_id  \n",
       "0                                     2937  \n",
       "1                                     2936  \n",
       "2                                     2936  \n",
       "3                                     2946  \n",
       "4                                     2946  \n",
       "...                                    ...  \n",
       "8981  1b2be85e-a5c2-4bc7-a310-1eb635c356e9  \n",
       "8982  1b2be85e-a5c2-4bc7-a310-1eb635c356e9  \n",
       "8983  1b2be85e-a5c2-4bc7-a310-1eb635c356e9  \n",
       "8984  e2065400-eaa5-4f9d-9f3e-1354a20642ec  \n",
       "8985  868a28db-bf9c-4ba3-bdc0-7fe40197fe66  \n",
       "\n",
       "[8986 rows x 4 columns]"
      ]
     },
     "execution_count": 15,
     "metadata": {},
     "output_type": "execute_result"
    }
   ],
   "source": [
    "stops"
   ]
  },
  {
   "cell_type": "code",
   "execution_count": 16,
   "metadata": {},
   "outputs": [],
   "source": [
    "stops.to_csv('../data/bus_stop_route_mapping.csv')"
   ]
  }
 ],
 "metadata": {
  "kernelspec": {
   "display_name": "Python 3",
   "language": "python",
   "name": "python3"
  },
  "language_info": {
   "codemirror_mode": {
    "name": "ipython",
    "version": 3
   },
   "file_extension": ".py",
   "mimetype": "text/x-python",
   "name": "python",
   "nbconvert_exporter": "python",
   "pygments_lexer": "ipython3",
   "version": "3.8.3"
  }
 },
 "nbformat": 4,
 "nbformat_minor": 2
}
