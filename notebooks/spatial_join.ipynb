{
 "cells": [
  {
   "cell_type": "code",
   "execution_count": 1,
   "metadata": {},
   "outputs": [],
   "source": [
    "import geopandas as gpd\n",
    "from tqdm import tqdm\n",
    "import time\n",
    "\n",
    "\"\"\"Add stops to routes\"\"\"\n",
    "# Filepath\n",
    "bus_routes_fp = \"../RTA_Bus_Routes-shp/RTA_Bus_Routes.shp\"\n",
    "bus_stops_fp = \"../RTA_Bus_Stops-shp/RTA_Bus_Stops.shp\"\n",
    "\n",
    "# Read the data\n",
    "bus_routes_df = gpd.read_file(bus_routes_fp)\n",
    "bus_stops_df = gpd.read_file(bus_stops_fp)\n",
    "\n",
    "# Pick specific columns\n",
    "routes = bus_routes_df[['OBJECTID','geometry','route_id', 'route_shor', 'route_long']]\n",
    "stops = bus_stops_df[['OBJECTID','geometry','stop_id']]"
   ]
  },
  {
   "cell_type": "code",
   "execution_count": 2,
   "metadata": {},
   "outputs": [
    {
     "name": "stdout",
     "output_type": "stream",
     "text": [
      "Finished in 928.358372926712s\n"
     ]
    },
    {
     "name": "stderr",
     "output_type": "stream",
     "text": [
      "/Library/Frameworks/Python.framework/Versions/3.8/lib/python3.8/site-packages/geopandas/geodataframe.py:853: SettingWithCopyWarning: \n",
      "A value is trying to be set on a copy of a slice from a DataFrame.\n",
      "Try using .loc[row_indexer,col_indexer] = value instead\n",
      "\n",
      "See the caveats in the documentation: https://pandas.pydata.org/pandas-docs/stable/user_guide/indexing.html#returning-a-view-versus-a-copy\n",
      "  super(GeoDataFrame, self).__setitem__(key, value)\n"
     ]
    }
   ],
   "source": [
    "# map bus stops to routes\n",
    "now = time.time()\n",
    "mapped_routes = [-1] * len(stops)\n",
    "current_route_id = ''\n",
    "\n",
    "def distance_mapper(row): \n",
    "    stop = row['geometry']\n",
    "    index = row.name\n",
    "    global current_route_id\n",
    "    \n",
    "    # TODO check threshold\n",
    "    if stop < 100:\n",
    "        # print(current_route_id, index, stop)\n",
    "        mapped_routes[index] = current_route_id\n",
    "        \n",
    "def distance_matrix(row):\n",
    "    line = row.geometry\n",
    "    global current_route_id\n",
    "    current_route_id = row.route_id\n",
    "\n",
    "    stops_distances = stops.apply(lambda stop: line.distance(stop.geometry), axis=1).to_frame('geometry')\n",
    "    \n",
    "    stops_distances.apply(distance_mapper, axis=1)\n",
    "    \n",
    "routes.apply(distance_matrix, axis=1)\n",
    "\n",
    "stops['route_id'] = mapped_routes\n",
    "print(f\"Finished in {time.time()-now}s\")\n",
    "stops.to_csv('data/bus_stop_route_mapping.csv')"
   ]
  }
 ],
 "metadata": {
  "kernelspec": {
   "display_name": "Python 3",
   "language": "python",
   "name": "python3"
  },
  "language_info": {
   "codemirror_mode": {
    "name": "ipython",
    "version": 3
   },
   "file_extension": ".py",
   "mimetype": "text/x-python",
   "name": "python",
   "nbconvert_exporter": "python",
   "pygments_lexer": "ipython3",
   "version": "3.8.3"
  }
 },
 "nbformat": 4,
 "nbformat_minor": 2
}
