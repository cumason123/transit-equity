{
 "cells": [
  {
   "cell_type": "code",
   "execution_count": 1,
   "metadata": {},
   "outputs": [
    {
     "name": "stdout",
     "output_type": "stream",
     "text": [
      "Finished all dataset gathering and preprocessing in 3.6197919845581055s\n",
      "dict_keys(['route_df', 'ridership_df', 'tract_population_df', 'county_population_df', 'bus_stop_income', 'result'])\n"
     ]
    }
   ],
   "source": [
    "import tqdm\n",
    "from rtc_transit_equity.datasets import generate\n",
    "data = generate()\n",
    "print(data.keys())"
   ]
  },
  {
   "cell_type": "code",
   "execution_count": 2,
   "metadata": {},
   "outputs": [],
   "source": [
    "result = data['result']\n",
    "ridership_df = data['ridership_df']"
   ]
  },
  {
   "cell_type": "markdown",
   "metadata": {},
   "source": [
    "# Strategic Q1\n",
    "p = population census count of some bus stop\n",
    "\n",
    "m = median household income of some bus stop\n",
    "\n",
    "We defined the median household income of a route to be:\n",
    "$$\\frac{\\sum p * m}{\\sum p}$$\n",
    "\n",
    "Where we are essentially normalizing the median household income of a route based on the stops along that route"
   ]
  },
  {
   "cell_type": "code",
   "execution_count": 3,
   "metadata": {},
   "outputs": [
    {
     "ename": "NameError",
     "evalue": "name 'tqdm' is not defined",
     "output_type": "error",
     "traceback": [
      "\u001b[0;31m---------------------------------------------------------------------------\u001b[0m",
      "\u001b[0;31mNameError\u001b[0m                                 Traceback (most recent call last)",
      "\u001b[0;32m<ipython-input-3-dba77c4c406f>\u001b[0m in \u001b[0;36m<module>\u001b[0;34m\u001b[0m\n\u001b[1;32m      4\u001b[0m \u001b[0;31m# Normalize route's median household income by bus stops along the route\u001b[0m\u001b[0;34m\u001b[0m\u001b[0;34m\u001b[0m\u001b[0;34m\u001b[0m\u001b[0m\n\u001b[1;32m      5\u001b[0m \u001b[0maverages\u001b[0m \u001b[0;34m=\u001b[0m \u001b[0;34m{\u001b[0m\u001b[0;34m}\u001b[0m\u001b[0;34m\u001b[0m\u001b[0;34m\u001b[0m\u001b[0m\n\u001b[0;32m----> 6\u001b[0;31m \u001b[0;32mfor\u001b[0m \u001b[0mroute_id\u001b[0m \u001b[0;32min\u001b[0m \u001b[0mtqdm\u001b[0m\u001b[0;34m(\u001b[0m\u001b[0mroute_ids\u001b[0m\u001b[0;34m)\u001b[0m\u001b[0;34m:\u001b[0m\u001b[0;34m\u001b[0m\u001b[0;34m\u001b[0m\u001b[0m\n\u001b[0m\u001b[1;32m      7\u001b[0m     \u001b[0mroute_stops\u001b[0m \u001b[0;34m=\u001b[0m \u001b[0mresult\u001b[0m\u001b[0;34m.\u001b[0m\u001b[0mloc\u001b[0m\u001b[0;34m[\u001b[0m\u001b[0mresult\u001b[0m\u001b[0;34m.\u001b[0m\u001b[0mroute_id\u001b[0m \u001b[0;34m==\u001b[0m \u001b[0mroute_id\u001b[0m\u001b[0;34m]\u001b[0m\u001b[0;34m\u001b[0m\u001b[0;34m\u001b[0m\u001b[0m\n\u001b[1;32m      8\u001b[0m     \u001b[0mroute_avg\u001b[0m \u001b[0;34m=\u001b[0m \u001b[0;34m(\u001b[0m\u001b[0mroute_stops\u001b[0m\u001b[0;34m.\u001b[0m\u001b[0mpopulation\u001b[0m \u001b[0;34m*\u001b[0m \u001b[0mroute_stops\u001b[0m\u001b[0;34m.\u001b[0m\u001b[0mmedian_household_income\u001b[0m\u001b[0;34m)\u001b[0m\u001b[0;34m.\u001b[0m\u001b[0msum\u001b[0m\u001b[0;34m(\u001b[0m\u001b[0;34m)\u001b[0m \u001b[0;34m/\u001b[0m \u001b[0mroute_stops\u001b[0m\u001b[0;34m.\u001b[0m\u001b[0mpopulation\u001b[0m\u001b[0;34m.\u001b[0m\u001b[0msum\u001b[0m\u001b[0;34m(\u001b[0m\u001b[0;34m)\u001b[0m\u001b[0;34m\u001b[0m\u001b[0;34m\u001b[0m\u001b[0m\n",
      "\u001b[0;31mNameError\u001b[0m: name 'tqdm' is not defined"
     ]
    }
   ],
   "source": [
    "route_ids = list(set(result.route_id))\n",
    "\n",
    "# TODO FIGURE OUT WHY WE HAVE DUPLICATE AGENCIES\n",
    "# Normalize route's median household income by bus stops along the route\n",
    "averages = {}\n",
    "for route_id in tqdm(route_ids):\n",
    "    route_stops = result.loc[result.route_id == route_id]\n",
    "    route_avg = (route_stops.population * route_stops.median_household_income).sum() / route_stops.population.sum()\n",
    "    \n",
    "    agencies = list(set(route_stops.Agency))\n",
    "    averages[route_id] = {\n",
    "        \"median_household_income\": float(route_avg), \n",
    "        \"RTA\": list(set(route_stops.Agency)),\n",
    "        \"route_population\": float(route_stops.drop_duplicates('census_tract').population.sum()),\n",
    "        \"short_name\": list(set(route_stops.route_short_name))\n",
    "    }\n"
   ]
  },
  {
   "cell_type": "code",
   "execution_count": null,
   "metadata": {},
   "outputs": [],
   "source": [
    "vals = list(averages.items())\n",
    "poorest_routes = sorted(vals, key=lambda elem: elem[1][\"median_household_income\"])\n",
    "print(f\"Poorest routes:\\n\\n{json.dumps(poorest_routes[:10], indent=2)}\")"
   ]
  },
  {
   "cell_type": "markdown",
   "metadata": {},
   "source": [
    "# Strategic Q2\n",
    "\n",
    "C: Total Operating Cost\n",
    "\n",
    "T: Total number of unlinked trips\n",
    "\n",
    "F: Total fares in a fiscal year\n",
    "\n",
    "Average Cost = $$\\frac{C}{T}$$\n",
    "\n",
    "Free Estimated Average Cost Per Trip = $$\\frac{C + F}{T * 1.3}$$\n",
    "\n",
    "We use the 1.3 constant due to the simpson curtson rule"
   ]
  },
  {
   "cell_type": "code",
   "execution_count": null,
   "metadata": {},
   "outputs": [],
   "source": [
    "RIDERSHIP_INCREASE_CONSTANT = 1.3\n",
    "\n",
    "ridership_df['Free Estimated Average Cost Per Trip'] = \\\n",
    "    (ridership_df['Operating Expenses FY'] + ridership_df['Fares FY']) / \\\n",
    "    (ridership_df['Unlinked Passenger Trips FY'] * RIDERSHIP_INCREASE_CONSTANT)\n",
    "\n",
    "ridership_df['Free percent average cost change'] = \\\n",
    "    (ridership_df['Free Estimated Average Cost Per Trip'] - ridership_df['Average Cost per Trip FY']) / \\\n",
    "    ridership_df['Average Cost per Trip FY']"
   ]
  },
  {
   "cell_type": "code",
   "execution_count": null,
   "metadata": {},
   "outputs": [],
   "source": [
    "display(ridership_df[[\n",
    "    'Free Estimated Average Cost Per Trip',\n",
    "    'Average Cost per Trip FY',\n",
    "    'Free percent average cost change',\n",
    "    'Agency'\n",
    "]].sort_values('Free percent average cost change').dropna())"
   ]
  },
  {
   "cell_type": "markdown",
   "metadata": {},
   "source": [
    "Below I will prove that assuming we have a 30% increase of ridership when we remove 100% of fares via the simpson curtson rule, average cost per trip will always decrease when the amount of revenue you generate is less than 3 tenths of the total operational cost:\n",
    "\n",
    "I will define the below function to be the percent change of average cost per trip when you remove 100% of fares. Let's define the following variables:\n",
    "\n",
    "x: Total revenue from fares\n",
    "\n",
    "C: Total cost of operation\n",
    "\n",
    "T: Total number of trips\n",
    "\n",
    "$$g(x) = \\frac{(\\frac{c + x}{t*1.3}) - \\frac{c}{t}}{\\frac{c}{t}}$$\n",
    "\n",
    "Notice this function will be strictly increasing when C and T are positive numbers.\n",
    "\n",
    "Now to solve for when y=0:\n",
    "\n",
    "$$0 = \\frac{(\\frac{c + x}{t*1.3}) - \\frac{c}{t}}{\\frac{c}{t}}$$\n",
    "\n",
    "$$0 = \\frac{c + x}{t*1.3} - \\frac{c}{t}$$\n",
    "\n",
    "$$\\frac{c}{t} = \\frac{c + x}{t*1.3}$$\n",
    "\n",
    "$$c * 1.3 = c + x$$\n",
    "\n",
    "$$c * 1.3 - c = x$$\n",
    "\n",
    "$$.3 * c = x$$"
   ]
  },
  {
   "cell_type": "code",
   "execution_count": null,
   "metadata": {},
   "outputs": [],
   "source": []
  }
 ],
 "metadata": {
  "kernelspec": {
   "display_name": "Python 3",
   "language": "python",
   "name": "python3"
  },
  "language_info": {
   "codemirror_mode": {
    "name": "ipython",
    "version": 3
   },
   "file_extension": ".py",
   "mimetype": "text/x-python",
   "name": "python",
   "nbconvert_exporter": "python",
   "pygments_lexer": "ipython3",
   "version": "3.8.3"
  }
 },
 "nbformat": 4,
 "nbformat_minor": 4
}
