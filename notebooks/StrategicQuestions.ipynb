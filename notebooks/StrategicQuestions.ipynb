{
 "cells": [
  {
   "cell_type": "code",
   "execution_count": 50,
   "metadata": {},
   "outputs": [
    {
     "output_type": "stream",
     "name": "stdout",
     "text": [
      "Finished all dataset gathering and preprocessing in 2.347060203552246s\ndict_keys(['route_df', 'ridership_df', 'tract_population_df', 'county_population_df', 'bus_stop_income', 'result'])\n"
     ]
    }
   ],
   "source": [
    "import json\n",
    "from tqdm import tqdm\n",
    "from rtc_transit_equity.datasets import generate\n",
    "data = generate()\n",
    "print(data.keys())"
   ]
  },
  {
   "cell_type": "code",
   "execution_count": 51,
   "metadata": {},
   "outputs": [],
   "source": [
    "stops2ridership = {\n",
    "    'VineyardRTA': \"Woods Hole, Martha's Vineyard and Nantucket Steamship Authority\",\n",
    "    'CapeCodRTA': \"Cape Cod Regional Transit Authority\",\n",
    "    'LowellRTA': 'Lowell Regional Transit Authority',\n",
    "    'CapeAnnRTA': \"Cape Ann Transportation Authority\",\n",
    "    'BerkshireRTA': \"Berkshire Regional Transit Authority\",\n",
    "    'MontachusettRTA': \"Montachusett Regional Transit Authority\",\n",
    "    'MerrimackValleyRTA': \"Merrimack Valley Regional Transit Authority\",\n",
    "    'PioneerValleyRTA': 'Pioneer Valley Transit Authority',\n",
    "    'MetroWestRTA': 'MetroWest Regional Transit Authority',\n",
    "    'WRTA': 'Worcester Regional Transit Authority',\n",
    "    'BrocktonAreaRTA': 'Brockton Area Transit Authority',\n",
    "    'SoutheasternRTA': 'Southeastern Regional Transit Authority'\n",
    "}"
   ]
  },
  {
   "cell_type": "code",
   "execution_count": 52,
   "metadata": {},
   "outputs": [],
   "source": [
    "result = data['result']\n",
    "ridership_df = data['ridership_df']\n",
    "bus_stop_income = data['bus_stop_income']\n",
    "routes = data['route_df']"
   ]
  },
  {
   "cell_type": "markdown",
   "metadata": {},
   "source": [
    "# Strategic Q1\n",
    "What bus routes and stops, if made free, would most benefit low income riders in Massachusetts?\n",
    "\n",
    "To answer this question, we used 2 approaches. First, we found the average household income of all users within a route and analyzed routes with respect to the average median household income.\n",
    "\n",
    "Next we will analyze routes with respect to the lowest median household income.\n",
    "\n",
    "\n",
    "p = population census count of some bus stop\n",
    "\n",
    "m = median household income of some bus stop\n",
    "\n",
    "We defined the median household income of a route to be:\n",
    "$$\\frac{\\sum p * m}{\\sum p}$$\n",
    "\n",
    "Where we are essentially normalizing the median household income of a route based on the stops along that route"
   ]
  },
  {
   "cell_type": "code",
   "execution_count": 53,
   "metadata": {},
   "outputs": [
    {
     "output_type": "stream",
     "name": "stderr",
     "text": [
      "100%|██████████| 221/221 [00:01<00:00, 140.60it/s]\n"
     ]
    }
   ],
   "source": [
    "route_ids = list(set(result.route_id))\n",
    "\n",
    "# TODO FIGURE OUT WHY WE HAVE DUPLICATE AGENCIES\n",
    "# Normalize route's median household income by bus stops along the route\n",
    "averages = {}\n",
    "for route_id in tqdm(route_ids):\n",
    "    route_stops = result.loc[result.route_id == route_id]\n",
    "    route_avg = (route_stops.population * route_stops.median_household_income).sum() / route_stops.population.sum()\n",
    "    \n",
    "    agencies = list(set(route_stops.Agency))\n",
    "    averages[route_id] = {\n",
    "        \"median_household_income\": float(route_avg), \n",
    "        \"RTA\": list(set(route_stops.Agency)),\n",
    "        \"route_population\": float(route_stops.drop_duplicates('census_tract').population.sum()),\n",
    "        \"short_name\": list(set(route_stops.route_short_name))\n",
    "    }\n"
   ]
  },
  {
   "cell_type": "code",
   "execution_count": 54,
   "metadata": {},
   "outputs": [
    {
     "output_type": "stream",
     "name": "stdout",
     "text": [
      "Poorest routes:\n\n[\n  [\n    \"B4\",\n    {\n      \"median_household_income\": 16901.605198118472,\n      \"RTA\": [\n        \"PioneerValleyRTA\"\n      ],\n      \"route_population\": 8281.0,\n      \"short_name\": [\n        \"B4\"\n      ]\n    }\n  ],\n  [\n    \"921\",\n    {\n      \"median_household_income\": 21671.941073823196,\n      \"RTA\": [\n        \"PioneerValleyRTA\"\n      ],\n      \"route_population\": 20286.0,\n      \"short_name\": [\n        \"P21E\"\n      ]\n    }\n  ],\n  [\n    \"3688\",\n    {\n      \"median_household_income\": 26521.33830045623,\n      \"RTA\": [\n        \"WRTA\"\n      ],\n      \"route_population\": 11705.0,\n      \"short_name\": [\n        \"6\"\n      ]\n    }\n  ],\n  [\n    \"2995\",\n    {\n      \"median_household_income\": 29320.265139403735,\n      \"RTA\": [\n        \"LowellRTA\"\n      ],\n      \"route_population\": 22544.0,\n      \"short_name\": [\n        \"6\"\n      ]\n    }\n  ],\n  [\n    \"2998\",\n    {\n      \"median_household_income\": 30999.477108691663,\n      \"RTA\": [\n        \"MerrimackValleyRTA\",\n        \"LowellRTA\"\n      ],\n      \"route_population\": 24880.0,\n      \"short_name\": [\n        \"9\"\n      ]\n    }\n  ],\n  [\n    \"3674\",\n    {\n      \"median_household_income\": 31013.021965548058,\n      \"RTA\": [\n        \"WRTA\"\n      ],\n      \"route_population\": 22789.0,\n      \"short_name\": [\n        \"24\"\n      ]\n    }\n  ],\n  [\n    \"3007\",\n    {\n      \"median_household_income\": 31194.0,\n      \"RTA\": [\n        \"LowellRTA\"\n      ],\n      \"route_population\": 6081.0,\n      \"short_name\": [\n        \"18\"\n      ]\n    }\n  ],\n  [\n    \"3689\",\n    {\n      \"median_household_income\": 32228.031968096573,\n      \"RTA\": [\n        \"WRTA\"\n      ],\n      \"route_population\": 27571.0,\n      \"short_name\": [\n        \"7\"\n      ]\n    }\n  ],\n  [\n    \"10737\",\n    {\n      \"median_household_income\": 32953.246412165376,\n      \"RTA\": [\n        \"MerrimackValleyRTA\"\n      ],\n      \"route_population\": 15853.0,\n      \"short_name\": [\n        \"85\"\n      ]\n    }\n  ],\n  [\n    \"30\",\n    {\n      \"median_household_income\": 33164.08308836189,\n      \"RTA\": [\n        \"PioneerValleyRTA\"\n      ],\n      \"route_population\": 31155.0,\n      \"short_name\": [\n        \"30\"\n      ]\n    }\n  ]\n]\n"
     ]
    }
   ],
   "source": [
    "vals = list(averages.items())\n",
    "poorest_routes = sorted(vals, key=lambda elem: elem[1][\"median_household_income\"])\n",
    "print(f\"Poorest routes:\\n\\n{json.dumps(poorest_routes[:10], indent=2)}\")"
   ]
  },
  {
   "cell_type": "code",
   "execution_count": 55,
   "metadata": {},
   "outputs": [
    {
     "output_type": "stream",
     "name": "stdout",
     "text": [
      "Highest population:\n\n[\n  [\n    \"3219\",\n    {\n      \"median_household_income\": 87848.30053915674,\n      \"RTA\": [\n        \"MerrimackValleyRTA\",\n        \"BrocktonAreaRTA\"\n      ],\n      \"route_population\": 120870.0,\n      \"short_name\": [\n        \"12\"\n      ]\n    }\n  ],\n  [\n    \"X90\",\n    {\n      \"median_household_income\": 40835.40385290104,\n      \"RTA\": [\n        \"PioneerValleyRTA\"\n      ],\n      \"route_population\": 91807.0,\n      \"short_name\": [\n        \"X90\"\n      ]\n    }\n  ],\n  [\n    \"3487\",\n    {\n      \"median_household_income\": 99274.3136949102,\n      \"RTA\": [\n        \"GATRA_RTA\"\n      ],\n      \"route_population\": 78781.0,\n      \"short_name\": [\n        \"14\"\n      ]\n    }\n  ],\n  [\n    \"G2\",\n    {\n      \"median_household_income\": 46769.51143440453,\n      \"RTA\": [\n        \"PioneerValleyRTA\"\n      ],\n      \"route_population\": 70636.0,\n      \"short_name\": [\n        \"G2\"\n      ]\n    }\n  ],\n  [\n    \"3241\",\n    {\n      \"median_household_income\": 79324.51225889487,\n      \"RTA\": [\n        \"CapeAnnRTA\"\n      ],\n      \"route_population\": 64755.0,\n      \"short_name\": [\n        NaN\n      ]\n    }\n  ],\n  [\n    \"G1\",\n    {\n      \"median_household_income\": 43159.27317218272,\n      \"RTA\": [\n        \"PioneerValleyRTA\"\n      ],\n      \"route_population\": 61644.0,\n      \"short_name\": [\n        \"G1\"\n      ]\n    }\n  ],\n  [\n    \"2999\",\n    {\n      \"median_household_income\": 83415.32379413981,\n      \"RTA\": [\n        \"LowellRTA\"\n      ],\n      \"route_population\": 61535.0,\n      \"short_name\": [\n        \"10\"\n      ]\n    }\n  ],\n  [\n    \"3683\",\n    {\n      \"median_household_income\": 65734.45533321236,\n      \"RTA\": [\n        \"WRTA\"\n      ],\n      \"route_population\": 61506.0,\n      \"short_name\": [\n        \"33\"\n      ]\n    }\n  ],\n  [\n    \"3504\",\n    {\n      \"median_household_income\": 103116.78360535485,\n      \"RTA\": [\n        \"GATRA_RTA\"\n      ],\n      \"route_population\": 60807.0,\n      \"short_name\": [\n        \"SAIL\"\n      ]\n    }\n  ],\n  [\n    \"3679\",\n    {\n      \"median_household_income\": 63229.47564060031,\n      \"RTA\": [\n        \"WRTA\"\n      ],\n      \"route_population\": 60272.0,\n      \"short_name\": [\n        \"29\"\n      ]\n    }\n  ]\n]\n"
     ]
    }
   ],
   "source": [
    "vals = list(averages.items())\n",
    "highest_population = sorted(vals, key=lambda elem: elem[1][\"route_population\"], reverse=True)\n",
    "print(f\"Highest population:\\n\\n{json.dumps(highest_population[:10], indent=2)}\")"
   ]
  },
  {
   "cell_type": "code",
   "execution_count": 56,
   "metadata": {},
   "outputs": [
    {
     "output_type": "stream",
     "name": "stderr",
     "text": [
      "100%|██████████| 221/221 [00:01<00:00, 155.47it/s]\n"
     ]
    }
   ],
   "source": [
    "route_ids = list(set(result.route_id))\n",
    "\n",
    "# TODO FIGURE OUT WHY WE HAVE DUPLICATE AGENCIES\n",
    "# Normalize route's median household income by bus stops along the route\n",
    "mins = {}\n",
    "for route_id in tqdm(route_ids):\n",
    "    route_stops = result.loc[result.route_id == route_id]\n",
    "    min_income = route_stops.median_household_income.min()\n",
    "    \n",
    "    agencies = list(set(route_stops.Agency))\n",
    "    mins[route_id] = {\n",
    "        \"min_median_household_income\": float(min_income), \n",
    "        \"RTA\": list(set(route_stops.Agency)),\n",
    "        \"route_population\": float(route_stops.drop_duplicates('census_tract').population.sum()),\n",
    "        \"short_name\": list(set(route_stops.route_short_name))\n",
    "    }\n"
   ]
  },
  {
   "cell_type": "code",
   "execution_count": 57,
   "metadata": {},
   "outputs": [
    {
     "output_type": "stream",
     "name": "stdout",
     "text": [
      "Min income:\n\n[\n  [\n    \"36\",\n    {\n      \"min_median_household_income\": 2499.0,\n      \"RTA\": [\n        \"PioneerValleyRTA\"\n      ],\n      \"route_population\": 31772.0,\n      \"short_name\": [\n        \"36\"\n      ]\n    }\n  ],\n  [\n    \"B43\",\n    {\n      \"min_median_household_income\": 2499.0,\n      \"RTA\": [\n        \"FranklinRTA\",\n        \"PioneerValleyRTA\"\n      ],\n      \"route_population\": 40827.0,\n      \"short_name\": [\n        \"B43\"\n      ]\n    }\n  ],\n  [\n    \"30\",\n    {\n      \"min_median_household_income\": 2499.0,\n      \"RTA\": [\n        \"PioneerValleyRTA\"\n      ],\n      \"route_population\": 31155.0,\n      \"short_name\": [\n        \"30\"\n      ]\n    }\n  ],\n  [\n    \"33\",\n    {\n      \"min_median_household_income\": 2499.0,\n      \"RTA\": [\n        \"FranklinRTA\",\n        \"PioneerValleyRTA\"\n      ],\n      \"route_population\": 46405.0,\n      \"short_name\": [\n        \"33\"\n      ]\n    }\n  ],\n  [\n    \"2907\",\n    {\n      \"min_median_household_income\": 13845.0,\n      \"RTA\": [\n        \"SoutheasternRTA\"\n      ],\n      \"route_population\": 34119.0,\n      \"short_name\": [\n        \"NB6\"\n      ]\n    }\n  ],\n  [\n    \"2904\",\n    {\n      \"min_median_household_income\": 13845.0,\n      \"RTA\": [\n        \"SoutheasternRTA\"\n      ],\n      \"route_population\": 26677.0,\n      \"short_name\": [\n        \"NB3\"\n      ]\n    }\n  ],\n  [\n    \"2906\",\n    {\n      \"min_median_household_income\": 13845.0,\n      \"RTA\": [\n        \"SoutheasternRTA\"\n      ],\n      \"route_population\": 14662.0,\n      \"short_name\": [\n        \"NB5\"\n      ]\n    }\n  ],\n  [\n    \"2911\",\n    {\n      \"min_median_household_income\": 13845.0,\n      \"RTA\": [\n        \"SoutheasternRTA\"\n      ],\n      \"route_population\": 26468.0,\n      \"short_name\": [\n        \"NB11\"\n      ]\n    }\n  ],\n  [\n    \"2909\",\n    {\n      \"min_median_household_income\": 13845.0,\n      \"RTA\": [\n        \"SoutheasternRTA\"\n      ],\n      \"route_population\": 52703.0,\n      \"short_name\": [\n        \"NB9\"\n      ]\n    }\n  ],\n  [\n    \"2902\",\n    {\n      \"min_median_household_income\": 13845.0,\n      \"RTA\": [\n        \"SoutheasternRTA\"\n      ],\n      \"route_population\": 17935.0,\n      \"short_name\": [\n        \"NB1\"\n      ]\n    }\n  ]\n]\n"
     ]
    }
   ],
   "source": [
    "vals = list(mins.items())\n",
    "min_income = sorted(vals, key=lambda elem: elem[1][\"min_median_household_income\"])\n",
    "print(f\"Min income:\\n\\n{json.dumps(min_income[:10], indent=2)}\")"
   ]
  },
  {
   "cell_type": "markdown",
   "metadata": {},
   "source": [
    "# Strategic Q2\n",
    "\n",
    "C: Total Operating Cost\n",
    "\n",
    "T: Total number of unlinked trips\n",
    "\n",
    "F: Total fares in a fiscal year\n",
    "\n",
    "Average Cost = $$\\frac{C}{T}$$\n",
    "\n",
    "Free Estimated Average Cost Per Trip = $$\\frac{C + F}{T * 1.3}$$\n",
    "\n",
    "We use the 1.3 constant due to the simpson curtson rule"
   ]
  },
  {
   "cell_type": "code",
   "execution_count": 58,
   "metadata": {},
   "outputs": [],
   "source": [
    "RIDERSHIP_INCREASE_CONSTANT = 1.3\n",
    "\n",
    "ridership_df['Free Estimated Average Cost Per Trip'] = \\\n",
    "    (ridership_df['Operating Expenses FY'] + ridership_df['Fares FY']) / \\\n",
    "    (ridership_df['Unlinked Passenger Trips FY'] * RIDERSHIP_INCREASE_CONSTANT)\n",
    "\n",
    "ridership_df['Free percent average cost change'] = \\\n",
    "    (ridership_df['Free Estimated Average Cost Per Trip'] - ridership_df['Average Cost per Trip FY']) / \\\n",
    "    ridership_df['Average Cost per Trip FY']"
   ]
  },
  {
   "cell_type": "code",
   "execution_count": 59,
   "metadata": {},
   "outputs": [
    {
     "output_type": "display_data",
     "data": {
      "text/plain": "    Free Estimated Average Cost Per Trip  Average Cost per Trip FY  \\\n17                              5.843595                    7.5967   \n16                             38.680183                   48.8760   \n6                               6.272620                    7.5696   \n9                               7.516318                    9.0034   \n11                              9.408694                   11.1007   \n15                              7.948441                    9.1898   \n10                              9.334594                   10.7798   \n4                               9.223292                   10.6482   \n2                               6.260449                    7.1723   \n13                              9.986896                   11.3875   \n7                               5.896456                    6.7203   \n3                               4.799070                    5.3885   \n5                               3.492483                    3.8750   \n0                               4.193935                    4.4399   \n\n    Free percent average cost change  \\\n17                         -0.230772   \n16                         -0.208606   \n6                          -0.171341   \n9                          -0.165169   \n11                         -0.152423   \n15                         -0.135080   \n10                         -0.134066   \n4                          -0.133817   \n2                          -0.127135   \n13                         -0.122995   \n7                          -0.122590   \n3                          -0.109387   \n5                          -0.098714   \n0                          -0.055399   \n\n                                               Agency  \n17  Woods Hole, Martha's Vineyard and Nantucket St...  \n16           Worcester Regional Transit Authority COA  \n6         Merrimack Valley Regional Transit Authority  \n9                   Cape Ann Transportation Authority  \n11  Greater Attleboro-Taunton Regional Transit Aut...  \n15               MetroWest Regional Transit Authority  \n10            Montachusett Regional Transit Authority  \n4                Berkshire Regional Transit Authority  \n2                   Lowell Regional Transit Authority  \n13                Cape Cod Regional Transit Authority  \n7                Worcester Regional Transit Authority  \n3             Southeastern Regional Transit Authority  \n5                    Pioneer Valley Transit Authority  \n0                     Brockton Area Transit Authority  ",
      "text/html": "<div>\n<style scoped>\n    .dataframe tbody tr th:only-of-type {\n        vertical-align: middle;\n    }\n\n    .dataframe tbody tr th {\n        vertical-align: top;\n    }\n\n    .dataframe thead th {\n        text-align: right;\n    }\n</style>\n<table border=\"1\" class=\"dataframe\">\n  <thead>\n    <tr style=\"text-align: right;\">\n      <th></th>\n      <th>Free Estimated Average Cost Per Trip</th>\n      <th>Average Cost per Trip FY</th>\n      <th>Free percent average cost change</th>\n      <th>Agency</th>\n    </tr>\n  </thead>\n  <tbody>\n    <tr>\n      <th>17</th>\n      <td>5.843595</td>\n      <td>7.5967</td>\n      <td>-0.230772</td>\n      <td>Woods Hole, Martha's Vineyard and Nantucket St...</td>\n    </tr>\n    <tr>\n      <th>16</th>\n      <td>38.680183</td>\n      <td>48.8760</td>\n      <td>-0.208606</td>\n      <td>Worcester Regional Transit Authority COA</td>\n    </tr>\n    <tr>\n      <th>6</th>\n      <td>6.272620</td>\n      <td>7.5696</td>\n      <td>-0.171341</td>\n      <td>Merrimack Valley Regional Transit Authority</td>\n    </tr>\n    <tr>\n      <th>9</th>\n      <td>7.516318</td>\n      <td>9.0034</td>\n      <td>-0.165169</td>\n      <td>Cape Ann Transportation Authority</td>\n    </tr>\n    <tr>\n      <th>11</th>\n      <td>9.408694</td>\n      <td>11.1007</td>\n      <td>-0.152423</td>\n      <td>Greater Attleboro-Taunton Regional Transit Aut...</td>\n    </tr>\n    <tr>\n      <th>15</th>\n      <td>7.948441</td>\n      <td>9.1898</td>\n      <td>-0.135080</td>\n      <td>MetroWest Regional Transit Authority</td>\n    </tr>\n    <tr>\n      <th>10</th>\n      <td>9.334594</td>\n      <td>10.7798</td>\n      <td>-0.134066</td>\n      <td>Montachusett Regional Transit Authority</td>\n    </tr>\n    <tr>\n      <th>4</th>\n      <td>9.223292</td>\n      <td>10.6482</td>\n      <td>-0.133817</td>\n      <td>Berkshire Regional Transit Authority</td>\n    </tr>\n    <tr>\n      <th>2</th>\n      <td>6.260449</td>\n      <td>7.1723</td>\n      <td>-0.127135</td>\n      <td>Lowell Regional Transit Authority</td>\n    </tr>\n    <tr>\n      <th>13</th>\n      <td>9.986896</td>\n      <td>11.3875</td>\n      <td>-0.122995</td>\n      <td>Cape Cod Regional Transit Authority</td>\n    </tr>\n    <tr>\n      <th>7</th>\n      <td>5.896456</td>\n      <td>6.7203</td>\n      <td>-0.122590</td>\n      <td>Worcester Regional Transit Authority</td>\n    </tr>\n    <tr>\n      <th>3</th>\n      <td>4.799070</td>\n      <td>5.3885</td>\n      <td>-0.109387</td>\n      <td>Southeastern Regional Transit Authority</td>\n    </tr>\n    <tr>\n      <th>5</th>\n      <td>3.492483</td>\n      <td>3.8750</td>\n      <td>-0.098714</td>\n      <td>Pioneer Valley Transit Authority</td>\n    </tr>\n    <tr>\n      <th>0</th>\n      <td>4.193935</td>\n      <td>4.4399</td>\n      <td>-0.055399</td>\n      <td>Brockton Area Transit Authority</td>\n    </tr>\n  </tbody>\n</table>\n</div>"
     },
     "metadata": {}
    }
   ],
   "source": [
    "display(ridership_df[[\n",
    "    'Free Estimated Average Cost Per Trip',\n",
    "    'Average Cost per Trip FY',\n",
    "    'Free percent average cost change',\n",
    "    'Agency'\n",
    "]].sort_values('Free percent average cost change').dropna())"
   ]
  },
  {
   "cell_type": "markdown",
   "metadata": {},
   "source": [
    "Below I will prove that assuming we have a 30% increase of ridership when we remove 100% of fares via the simpson curtson rule, average cost per trip will always decrease when the amount of revenue you generate is less than 3 tenths of the total operational cost:\n",
    "\n",
    "I will define the below function to be the percent change of average cost per trip when you remove 100% of fares. Let's define the following variables:\n",
    "\n",
    "x: Total revenue from fares\n",
    "\n",
    "C: Total cost of operation\n",
    "\n",
    "T: Total number of trips\n",
    "\n",
    "$$g(x) = \\frac{(\\frac{c + x}{t*1.3}) - \\frac{c}{t}}{\\frac{c}{t}}$$\n",
    "\n",
    "Notice this function will be strictly increasing when C and T are positive numbers.\n",
    "\n",
    "Now to solve for when y=0:\n",
    "\n",
    "$$0 = \\frac{(\\frac{c + x}{t*1.3}) - \\frac{c}{t}}{\\frac{c}{t}}$$\n",
    "\n",
    "$$0 = \\frac{c + x}{t*1.3} - \\frac{c}{t}$$\n",
    "\n",
    "$$\\frac{c}{t} = \\frac{c + x}{t*1.3}$$\n",
    "\n",
    "$$c * 1.3 = c + x$$\n",
    "\n",
    "$$c * 1.3 - c = x$$\n",
    "\n",
    "$$.3 * c = x$$"
   ]
  },
  {
   "cell_type": "markdown",
   "metadata": {},
   "source": [
    "data['result']"
   ]
  },
  {
   "cell_type": "code",
   "execution_count": 60,
   "metadata": {},
   "outputs": [
    {
     "output_type": "execute_result",
     "data": {
      "text/plain": [
       "    5 digit NTD ID                                             Agency  \\\n",
       "0            10004                    Brockton Area Transit Authority   \n",
       "1            10005                  Lowell Regional Transit Authority   \n",
       "2            10005                  Lowell Regional Transit Authority   \n",
       "3            10006            Southeastern Regional Transit Authority   \n",
       "4            10007               Berkshire Regional Transit Authority   \n",
       "5            10008                   Pioneer Valley Transit Authority   \n",
       "6            10013        Merrimack Valley Regional Transit Authority   \n",
       "7            10014               Worcester Regional Transit Authority   \n",
       "8            10014               Worcester Regional Transit Authority   \n",
       "9            10053                  Cape Ann Transportation Authority   \n",
       "10           10061            Montachusett Regional Transit Authority   \n",
       "11           10064  Greater Attleboro-Taunton Regional Transit Aut...   \n",
       "12           10089                                    Transit Express   \n",
       "13           10105                Cape Cod Regional Transit Authority   \n",
       "14           10117         Plymouth & Brockton Street Railway Company   \n",
       "15           10118               MetroWest Regional Transit Authority   \n",
       "16           10126           Worcester Regional Transit Authority COA   \n",
       "17           10183  Woods Hole, Martha's Vineyard and Nantucket St...   \n",
       "\n",
       "    Service Area Population TOS    Active  Passenger Miles FY  \\\n",
       "0                  254648.0  PT    Active          17731983.0   \n",
       "1                  338186.0  DO    Active                 NaN   \n",
       "2                  338186.0  PT    Active           6620433.0   \n",
       "3                  308614.0  PT    Active           8586355.0   \n",
       "4                  127500.0  PT    Active           4477482.0   \n",
       "5                  551543.0  PT    Active          39422834.0   \n",
       "6                  306339.0  PT    Active           8095787.0   \n",
       "7                  479329.0  DO    Active          13078228.0   \n",
       "8                  479329.0  PT    Active                 NaN   \n",
       "9                   54099.0  PT    Active            790537.0   \n",
       "10                 228778.0  PT    Active           2230148.0   \n",
       "11                 572140.0  PT    Active           3448477.0   \n",
       "12                 551543.0  PT  Inactive                 NaN   \n",
       "13                 221049.0  PT    Active           8354004.0   \n",
       "14                 718439.0  DO  Inactive                 NaN   \n",
       "15                 324040.0  PT    Active           3048240.0   \n",
       "16                 169643.0  PT    Active              1163.0   \n",
       "17                 241649.0  DO    Active           4372843.0   \n",
       "\n",
       "    Unlinked Passenger Trips FY   Fares FY  Operating Expenses FY  \\\n",
       "0                     2636726.0  2668996.0             11706738.0   \n",
       "1                           NaN        NaN                    NaN   \n",
       "2                     1370690.0  1324536.0              9830939.0   \n",
       "3                     2666570.0  2267445.0             14368729.0   \n",
       "4                      497498.0   667672.0              5297468.0   \n",
       "5                    10120344.0  6732600.0             39216072.0   \n",
       "6                     1952888.0  1141975.0             14782667.0   \n",
       "7                     3013268.0  2847838.0             20250045.0   \n",
       "8                           NaN        NaN                    NaN   \n",
       "9                      206000.0   158172.0              1854698.0   \n",
       "10                     537385.0   728269.0              5792883.0   \n",
       "11                     716680.0   810251.0              7955679.0   \n",
       "12                          NaN        NaN                    NaN   \n",
       "13                     610171.0   973479.0              6948350.0   \n",
       "14                          NaN        NaN                    NaN   \n",
       "15                     592164.0   676925.0              5441890.0   \n",
       "16                        387.0      545.0                18915.0   \n",
       "17                     857547.0        0.0              6514505.0   \n",
       "\n",
       "    Average Cost per Trip FY  Average Fares per Trip FY  \\\n",
       "0                     4.4399                     1.0122   \n",
       "1                        NaN                        NaN   \n",
       "2                     7.1723                     0.9663   \n",
       "3                     5.3885                     0.8503   \n",
       "4                    10.6482                     1.3421   \n",
       "5                     3.8750                     0.6653   \n",
       "6                     7.5696                     0.5848   \n",
       "7                     6.7203                     0.9451   \n",
       "8                        NaN                        NaN   \n",
       "9                     9.0034                     0.7678   \n",
       "10                   10.7798                     1.3552   \n",
       "11                   11.1007                     1.1306   \n",
       "12                       NaN                        NaN   \n",
       "13                   11.3875                     1.5954   \n",
       "14                       NaN                        NaN   \n",
       "15                    9.1898                     1.1431   \n",
       "16                   48.8760                     1.4083   \n",
       "17                    7.5967                     0.0000   \n",
       "\n",
       "    Free Estimated Average Cost Per Trip  Free percent average cost change  \n",
       "0                               4.193935                         -0.055399  \n",
       "1                                    NaN                               NaN  \n",
       "2                               6.260449                         -0.127135  \n",
       "3                               4.799070                         -0.109387  \n",
       "4                               9.223292                         -0.133817  \n",
       "5                               3.492483                         -0.098714  \n",
       "6                               6.272620                         -0.171341  \n",
       "7                               5.896456                         -0.122590  \n",
       "8                                    NaN                               NaN  \n",
       "9                               7.516318                         -0.165169  \n",
       "10                              9.334594                         -0.134066  \n",
       "11                              9.408694                         -0.152423  \n",
       "12                                   NaN                               NaN  \n",
       "13                              9.986896                         -0.122995  \n",
       "14                                   NaN                               NaN  \n",
       "15                              7.948441                         -0.135080  \n",
       "16                             38.680183                         -0.208606  \n",
       "17                              5.843595                         -0.230772  "
      ],
      "text/html": "<div>\n<style scoped>\n    .dataframe tbody tr th:only-of-type {\n        vertical-align: middle;\n    }\n\n    .dataframe tbody tr th {\n        vertical-align: top;\n    }\n\n    .dataframe thead th {\n        text-align: right;\n    }\n</style>\n<table border=\"1\" class=\"dataframe\">\n  <thead>\n    <tr style=\"text-align: right;\">\n      <th></th>\n      <th>5 digit NTD ID</th>\n      <th>Agency</th>\n      <th>Service Area Population</th>\n      <th>TOS</th>\n      <th>Active</th>\n      <th>Passenger Miles FY</th>\n      <th>Unlinked Passenger Trips FY</th>\n      <th>Fares FY</th>\n      <th>Operating Expenses FY</th>\n      <th>Average Cost per Trip FY</th>\n      <th>Average Fares per Trip FY</th>\n      <th>Free Estimated Average Cost Per Trip</th>\n      <th>Free percent average cost change</th>\n    </tr>\n  </thead>\n  <tbody>\n    <tr>\n      <th>0</th>\n      <td>10004</td>\n      <td>Brockton Area Transit Authority</td>\n      <td>254648.0</td>\n      <td>PT</td>\n      <td>Active</td>\n      <td>17731983.0</td>\n      <td>2636726.0</td>\n      <td>2668996.0</td>\n      <td>11706738.0</td>\n      <td>4.4399</td>\n      <td>1.0122</td>\n      <td>4.193935</td>\n      <td>-0.055399</td>\n    </tr>\n    <tr>\n      <th>1</th>\n      <td>10005</td>\n      <td>Lowell Regional Transit Authority</td>\n      <td>338186.0</td>\n      <td>DO</td>\n      <td>Active</td>\n      <td>NaN</td>\n      <td>NaN</td>\n      <td>NaN</td>\n      <td>NaN</td>\n      <td>NaN</td>\n      <td>NaN</td>\n      <td>NaN</td>\n      <td>NaN</td>\n    </tr>\n    <tr>\n      <th>2</th>\n      <td>10005</td>\n      <td>Lowell Regional Transit Authority</td>\n      <td>338186.0</td>\n      <td>PT</td>\n      <td>Active</td>\n      <td>6620433.0</td>\n      <td>1370690.0</td>\n      <td>1324536.0</td>\n      <td>9830939.0</td>\n      <td>7.1723</td>\n      <td>0.9663</td>\n      <td>6.260449</td>\n      <td>-0.127135</td>\n    </tr>\n    <tr>\n      <th>3</th>\n      <td>10006</td>\n      <td>Southeastern Regional Transit Authority</td>\n      <td>308614.0</td>\n      <td>PT</td>\n      <td>Active</td>\n      <td>8586355.0</td>\n      <td>2666570.0</td>\n      <td>2267445.0</td>\n      <td>14368729.0</td>\n      <td>5.3885</td>\n      <td>0.8503</td>\n      <td>4.799070</td>\n      <td>-0.109387</td>\n    </tr>\n    <tr>\n      <th>4</th>\n      <td>10007</td>\n      <td>Berkshire Regional Transit Authority</td>\n      <td>127500.0</td>\n      <td>PT</td>\n      <td>Active</td>\n      <td>4477482.0</td>\n      <td>497498.0</td>\n      <td>667672.0</td>\n      <td>5297468.0</td>\n      <td>10.6482</td>\n      <td>1.3421</td>\n      <td>9.223292</td>\n      <td>-0.133817</td>\n    </tr>\n    <tr>\n      <th>5</th>\n      <td>10008</td>\n      <td>Pioneer Valley Transit Authority</td>\n      <td>551543.0</td>\n      <td>PT</td>\n      <td>Active</td>\n      <td>39422834.0</td>\n      <td>10120344.0</td>\n      <td>6732600.0</td>\n      <td>39216072.0</td>\n      <td>3.8750</td>\n      <td>0.6653</td>\n      <td>3.492483</td>\n      <td>-0.098714</td>\n    </tr>\n    <tr>\n      <th>6</th>\n      <td>10013</td>\n      <td>Merrimack Valley Regional Transit Authority</td>\n      <td>306339.0</td>\n      <td>PT</td>\n      <td>Active</td>\n      <td>8095787.0</td>\n      <td>1952888.0</td>\n      <td>1141975.0</td>\n      <td>14782667.0</td>\n      <td>7.5696</td>\n      <td>0.5848</td>\n      <td>6.272620</td>\n      <td>-0.171341</td>\n    </tr>\n    <tr>\n      <th>7</th>\n      <td>10014</td>\n      <td>Worcester Regional Transit Authority</td>\n      <td>479329.0</td>\n      <td>DO</td>\n      <td>Active</td>\n      <td>13078228.0</td>\n      <td>3013268.0</td>\n      <td>2847838.0</td>\n      <td>20250045.0</td>\n      <td>6.7203</td>\n      <td>0.9451</td>\n      <td>5.896456</td>\n      <td>-0.122590</td>\n    </tr>\n    <tr>\n      <th>8</th>\n      <td>10014</td>\n      <td>Worcester Regional Transit Authority</td>\n      <td>479329.0</td>\n      <td>PT</td>\n      <td>Active</td>\n      <td>NaN</td>\n      <td>NaN</td>\n      <td>NaN</td>\n      <td>NaN</td>\n      <td>NaN</td>\n      <td>NaN</td>\n      <td>NaN</td>\n      <td>NaN</td>\n    </tr>\n    <tr>\n      <th>9</th>\n      <td>10053</td>\n      <td>Cape Ann Transportation Authority</td>\n      <td>54099.0</td>\n      <td>PT</td>\n      <td>Active</td>\n      <td>790537.0</td>\n      <td>206000.0</td>\n      <td>158172.0</td>\n      <td>1854698.0</td>\n      <td>9.0034</td>\n      <td>0.7678</td>\n      <td>7.516318</td>\n      <td>-0.165169</td>\n    </tr>\n    <tr>\n      <th>10</th>\n      <td>10061</td>\n      <td>Montachusett Regional Transit Authority</td>\n      <td>228778.0</td>\n      <td>PT</td>\n      <td>Active</td>\n      <td>2230148.0</td>\n      <td>537385.0</td>\n      <td>728269.0</td>\n      <td>5792883.0</td>\n      <td>10.7798</td>\n      <td>1.3552</td>\n      <td>9.334594</td>\n      <td>-0.134066</td>\n    </tr>\n    <tr>\n      <th>11</th>\n      <td>10064</td>\n      <td>Greater Attleboro-Taunton Regional Transit Aut...</td>\n      <td>572140.0</td>\n      <td>PT</td>\n      <td>Active</td>\n      <td>3448477.0</td>\n      <td>716680.0</td>\n      <td>810251.0</td>\n      <td>7955679.0</td>\n      <td>11.1007</td>\n      <td>1.1306</td>\n      <td>9.408694</td>\n      <td>-0.152423</td>\n    </tr>\n    <tr>\n      <th>12</th>\n      <td>10089</td>\n      <td>Transit Express</td>\n      <td>551543.0</td>\n      <td>PT</td>\n      <td>Inactive</td>\n      <td>NaN</td>\n      <td>NaN</td>\n      <td>NaN</td>\n      <td>NaN</td>\n      <td>NaN</td>\n      <td>NaN</td>\n      <td>NaN</td>\n      <td>NaN</td>\n    </tr>\n    <tr>\n      <th>13</th>\n      <td>10105</td>\n      <td>Cape Cod Regional Transit Authority</td>\n      <td>221049.0</td>\n      <td>PT</td>\n      <td>Active</td>\n      <td>8354004.0</td>\n      <td>610171.0</td>\n      <td>973479.0</td>\n      <td>6948350.0</td>\n      <td>11.3875</td>\n      <td>1.5954</td>\n      <td>9.986896</td>\n      <td>-0.122995</td>\n    </tr>\n    <tr>\n      <th>14</th>\n      <td>10117</td>\n      <td>Plymouth &amp; Brockton Street Railway Company</td>\n      <td>718439.0</td>\n      <td>DO</td>\n      <td>Inactive</td>\n      <td>NaN</td>\n      <td>NaN</td>\n      <td>NaN</td>\n      <td>NaN</td>\n      <td>NaN</td>\n      <td>NaN</td>\n      <td>NaN</td>\n      <td>NaN</td>\n    </tr>\n    <tr>\n      <th>15</th>\n      <td>10118</td>\n      <td>MetroWest Regional Transit Authority</td>\n      <td>324040.0</td>\n      <td>PT</td>\n      <td>Active</td>\n      <td>3048240.0</td>\n      <td>592164.0</td>\n      <td>676925.0</td>\n      <td>5441890.0</td>\n      <td>9.1898</td>\n      <td>1.1431</td>\n      <td>7.948441</td>\n      <td>-0.135080</td>\n    </tr>\n    <tr>\n      <th>16</th>\n      <td>10126</td>\n      <td>Worcester Regional Transit Authority COA</td>\n      <td>169643.0</td>\n      <td>PT</td>\n      <td>Active</td>\n      <td>1163.0</td>\n      <td>387.0</td>\n      <td>545.0</td>\n      <td>18915.0</td>\n      <td>48.8760</td>\n      <td>1.4083</td>\n      <td>38.680183</td>\n      <td>-0.208606</td>\n    </tr>\n    <tr>\n      <th>17</th>\n      <td>10183</td>\n      <td>Woods Hole, Martha's Vineyard and Nantucket St...</td>\n      <td>241649.0</td>\n      <td>DO</td>\n      <td>Active</td>\n      <td>4372843.0</td>\n      <td>857547.0</td>\n      <td>0.0</td>\n      <td>6514505.0</td>\n      <td>7.5967</td>\n      <td>0.0000</td>\n      <td>5.843595</td>\n      <td>-0.230772</td>\n    </tr>\n  </tbody>\n</table>\n</div>"
     },
     "metadata": {},
     "execution_count": 60
    }
   ],
   "source": [
    "ridership_df"
   ]
  },
  {
   "cell_type": "markdown",
   "metadata": {},
   "source": [
    "# Strategic Question 3\n",
    "\n",
    "What would the cost be to the MBTA and regional transit authorities for each proposed bus route/stop/zones based on ridership and fare costs?\n",
    "\n",
    "There is no ridership data per bus stop in MA available, so in order to answer this, we must first generate our own ridership data per bus stop.\n",
    "\n",
    "Our data currently only has ridership per RTA, and we are able to map bus stops onto RTA's. We can use this generalized ridership data in combination with the bus stops population density to draw estimates, however truthfully these estimates will be far more inaccurate than if we had ridership per bus stop basis.\n",
    "\n",
    "After merging our ridership data onto our bus stop income, we will define the cost of a bus stop as the difference in fare revenue if that bus stop were to be removed. "
   ]
  },
  {
   "cell_type": "code",
   "execution_count": 61,
   "metadata": {},
   "outputs": [
    {
     "output_type": "execute_result",
     "data": {
      "text/plain": [
       "      Bus Stop Estimated Fares                        stop_name  \\\n",
       "0                 62415.063853                    Market Basket   \n",
       "1                 62415.063853  Belair St at Colonel Bell Drive   \n",
       "2                 62415.063853      Belair St at Belair Hi Rise   \n",
       "3                 62415.063853      Belair St at Belair Hi Rise   \n",
       "4                 62415.063853            Belair St at Earle St   \n",
       "...                        ...                              ...   \n",
       "9788              12469.341208              Coolidge at Sudbury   \n",
       "9789              10871.243365                   Wayland Center   \n",
       "9790              10871.243365                      Coach Grill   \n",
       "9791              10981.961255   Colonial Rd Capital Rd Housing   \n",
       "9792               7923.640677                        Weston Rd   \n",
       "\n",
       "                                    Agency TOS  \n",
       "0          Brockton Area Transit Authority  PT  \n",
       "1          Brockton Area Transit Authority  PT  \n",
       "2          Brockton Area Transit Authority  PT  \n",
       "3          Brockton Area Transit Authority  PT  \n",
       "4          Brockton Area Transit Authority  PT  \n",
       "...                                    ...  ..  \n",
       "9788  MetroWest Regional Transit Authority  PT  \n",
       "9789  MetroWest Regional Transit Authority  PT  \n",
       "9790  MetroWest Regional Transit Authority  PT  \n",
       "9791  MetroWest Regional Transit Authority  PT  \n",
       "9792  MetroWest Regional Transit Authority  PT  \n",
       "\n",
       "[9793 rows x 4 columns]"
      ],
      "text/html": "<div>\n<style scoped>\n    .dataframe tbody tr th:only-of-type {\n        vertical-align: middle;\n    }\n\n    .dataframe tbody tr th {\n        vertical-align: top;\n    }\n\n    .dataframe thead th {\n        text-align: right;\n    }\n</style>\n<table border=\"1\" class=\"dataframe\">\n  <thead>\n    <tr style=\"text-align: right;\">\n      <th></th>\n      <th>Bus Stop Estimated Fares</th>\n      <th>stop_name</th>\n      <th>Agency</th>\n      <th>TOS</th>\n    </tr>\n  </thead>\n  <tbody>\n    <tr>\n      <th>0</th>\n      <td>62415.063853</td>\n      <td>Market Basket</td>\n      <td>Brockton Area Transit Authority</td>\n      <td>PT</td>\n    </tr>\n    <tr>\n      <th>1</th>\n      <td>62415.063853</td>\n      <td>Belair St at Colonel Bell Drive</td>\n      <td>Brockton Area Transit Authority</td>\n      <td>PT</td>\n    </tr>\n    <tr>\n      <th>2</th>\n      <td>62415.063853</td>\n      <td>Belair St at Belair Hi Rise</td>\n      <td>Brockton Area Transit Authority</td>\n      <td>PT</td>\n    </tr>\n    <tr>\n      <th>3</th>\n      <td>62415.063853</td>\n      <td>Belair St at Belair Hi Rise</td>\n      <td>Brockton Area Transit Authority</td>\n      <td>PT</td>\n    </tr>\n    <tr>\n      <th>4</th>\n      <td>62415.063853</td>\n      <td>Belair St at Earle St</td>\n      <td>Brockton Area Transit Authority</td>\n      <td>PT</td>\n    </tr>\n    <tr>\n      <th>...</th>\n      <td>...</td>\n      <td>...</td>\n      <td>...</td>\n      <td>...</td>\n    </tr>\n    <tr>\n      <th>9788</th>\n      <td>12469.341208</td>\n      <td>Coolidge at Sudbury</td>\n      <td>MetroWest Regional Transit Authority</td>\n      <td>PT</td>\n    </tr>\n    <tr>\n      <th>9789</th>\n      <td>10871.243365</td>\n      <td>Wayland Center</td>\n      <td>MetroWest Regional Transit Authority</td>\n      <td>PT</td>\n    </tr>\n    <tr>\n      <th>9790</th>\n      <td>10871.243365</td>\n      <td>Coach Grill</td>\n      <td>MetroWest Regional Transit Authority</td>\n      <td>PT</td>\n    </tr>\n    <tr>\n      <th>9791</th>\n      <td>10981.961255</td>\n      <td>Colonial Rd Capital Rd Housing</td>\n      <td>MetroWest Regional Transit Authority</td>\n      <td>PT</td>\n    </tr>\n    <tr>\n      <th>9792</th>\n      <td>7923.640677</td>\n      <td>Weston Rd</td>\n      <td>MetroWest Regional Transit Authority</td>\n      <td>PT</td>\n    </tr>\n  </tbody>\n</table>\n<p>9793 rows × 4 columns</p>\n</div>"
     },
     "metadata": {},
     "execution_count": 61
    }
   ],
   "source": [
    "# Uniform Agency names across datasets\n",
    "bus_stop_income['Agency'] = bus_stop_income['Agency'].apply(\n",
    "    lambda agency: stops2ridership[agency] if agency in stops2ridership else None\n",
    ")\n",
    "\n",
    "routes['Agency'] = routes['Agency'].apply(\n",
    "    lambda agency: stops2ridership[agency] if agency in stops2ridership else None\n",
    ")\n",
    "\n",
    "# Add ridership data estimations to bus stops\n",
    "bus_stop_ridership = bus_stop_income.merge(\n",
    "    ridership_df, \n",
    "    on='Agency', \n",
    ")\n",
    "\n",
    "# normalize fares with respect to population at this stop\n",
    "bus_stop_ridership['Bus Stop Estimated Fares'] = bus_stop_ridership.apply(\n",
    "    lambda row: (row['Fares FY'] / row['Service Area Population']) * row.population,\n",
    "    axis=1\n",
    ")\n",
    "\n",
    "bus_stop_ridership[['Bus Stop Estimated Fares', \n",
    "                    'stop_name', \n",
    "                    'Agency', \n",
    "                    'TOS']]"
   ]
  },
  {
   "cell_type": "markdown",
   "metadata": {},
   "source": [
    "Now we will try and analyze our ridership data on a per route basis as seen below:"
   ]
  },
  {
   "cell_type": "code",
   "execution_count": 62,
   "metadata": {},
   "outputs": [],
   "source": [
    "routes_ridership = routes.merge(ridership_df, on='Agency')\n",
    "routes_ridership['population'] = routes_ridership.apply(\n",
    "    lambda row: averages[row.route_id]['route_population'],\n",
    "    axis=1\n",
    ")\n",
    "\n",
    "routes_ridership['Routes Estimated Fares'] = routes_ridership.apply(\n",
    "    lambda row: (row['Fares FY'] / row['Service Area Population']) * row.population,\n",
    "    axis=1\n",
    ")\n",
    "cost_impact_per_route = routes_ridership[['Routes Estimated Fares', \n",
    "                    'route_long_name',\n",
    "                    'route_short_name',\n",
    "                    'Agency', \n",
    "                    'TOS']]"
   ]
  },
  {
   "cell_type": "code",
   "execution_count": 67,
   "metadata": {},
   "outputs": [
    {
     "output_type": "execute_result",
     "data": {
      "text/plain": [
       "      Routes Estimated Fares                        route_long_name  \\\n",
       "0              214967.751406  Montello Street Via North Main Street   \n",
       "1              332450.614668       S Plaza/Campello Via Main Street   \n",
       "2              309088.200339                VA Hospital via Belmont   \n",
       "3              309088.200339                VA Hospital via Belmont   \n",
       "4              521886.360105   Southfield via Warren & Plain Street   \n",
       "...                      ...                                    ...   \n",
       "1193            18188.654356                            Yellow Line   \n",
       "1194            18188.654356                            Yellow Line   \n",
       "1195            62015.680364                            Purple Line   \n",
       "1196           189327.489602       City of Beverly Shuttle (Yellow)   \n",
       "1197           189327.489602       City of Beverly Shuttle (Yellow)   \n",
       "\n",
       "     route_short_name                             Agency TOS  \n",
       "0                   1    Brockton Area Transit Authority  PT  \n",
       "1                   2    Brockton Area Transit Authority  PT  \n",
       "2                   3    Brockton Area Transit Authority  PT  \n",
       "3                   3    Brockton Area Transit Authority  PT  \n",
       "4                   8    Brockton Area Transit Authority  PT  \n",
       "...               ...                                ...  ..  \n",
       "1193              NaN  Cape Ann Transportation Authority  PT  \n",
       "1194              NaN  Cape Ann Transportation Authority  PT  \n",
       "1195              NaN  Cape Ann Transportation Authority  PT  \n",
       "1196              NaN  Cape Ann Transportation Authority  PT  \n",
       "1197              NaN  Cape Ann Transportation Authority  PT  \n",
       "\n",
       "[1198 rows x 5 columns]"
      ],
      "text/html": "<div>\n<style scoped>\n    .dataframe tbody tr th:only-of-type {\n        vertical-align: middle;\n    }\n\n    .dataframe tbody tr th {\n        vertical-align: top;\n    }\n\n    .dataframe thead th {\n        text-align: right;\n    }\n</style>\n<table border=\"1\" class=\"dataframe\">\n  <thead>\n    <tr style=\"text-align: right;\">\n      <th></th>\n      <th>Routes Estimated Fares</th>\n      <th>route_long_name</th>\n      <th>route_short_name</th>\n      <th>Agency</th>\n      <th>TOS</th>\n    </tr>\n  </thead>\n  <tbody>\n    <tr>\n      <th>0</th>\n      <td>214967.751406</td>\n      <td>Montello Street Via North Main Street</td>\n      <td>1</td>\n      <td>Brockton Area Transit Authority</td>\n      <td>PT</td>\n    </tr>\n    <tr>\n      <th>1</th>\n      <td>332450.614668</td>\n      <td>S Plaza/Campello Via Main Street</td>\n      <td>2</td>\n      <td>Brockton Area Transit Authority</td>\n      <td>PT</td>\n    </tr>\n    <tr>\n      <th>2</th>\n      <td>309088.200339</td>\n      <td>VA Hospital via Belmont</td>\n      <td>3</td>\n      <td>Brockton Area Transit Authority</td>\n      <td>PT</td>\n    </tr>\n    <tr>\n      <th>3</th>\n      <td>309088.200339</td>\n      <td>VA Hospital via Belmont</td>\n      <td>3</td>\n      <td>Brockton Area Transit Authority</td>\n      <td>PT</td>\n    </tr>\n    <tr>\n      <th>4</th>\n      <td>521886.360105</td>\n      <td>Southfield via Warren &amp; Plain Street</td>\n      <td>8</td>\n      <td>Brockton Area Transit Authority</td>\n      <td>PT</td>\n    </tr>\n    <tr>\n      <th>...</th>\n      <td>...</td>\n      <td>...</td>\n      <td>...</td>\n      <td>...</td>\n      <td>...</td>\n    </tr>\n    <tr>\n      <th>1193</th>\n      <td>18188.654356</td>\n      <td>Yellow Line</td>\n      <td>NaN</td>\n      <td>Cape Ann Transportation Authority</td>\n      <td>PT</td>\n    </tr>\n    <tr>\n      <th>1194</th>\n      <td>18188.654356</td>\n      <td>Yellow Line</td>\n      <td>NaN</td>\n      <td>Cape Ann Transportation Authority</td>\n      <td>PT</td>\n    </tr>\n    <tr>\n      <th>1195</th>\n      <td>62015.680364</td>\n      <td>Purple Line</td>\n      <td>NaN</td>\n      <td>Cape Ann Transportation Authority</td>\n      <td>PT</td>\n    </tr>\n    <tr>\n      <th>1196</th>\n      <td>189327.489602</td>\n      <td>City of Beverly Shuttle (Yellow)</td>\n      <td>NaN</td>\n      <td>Cape Ann Transportation Authority</td>\n      <td>PT</td>\n    </tr>\n    <tr>\n      <th>1197</th>\n      <td>189327.489602</td>\n      <td>City of Beverly Shuttle (Yellow)</td>\n      <td>NaN</td>\n      <td>Cape Ann Transportation Authority</td>\n      <td>PT</td>\n    </tr>\n  </tbody>\n</table>\n<p>1198 rows × 5 columns</p>\n</div>"
     },
     "metadata": {},
     "execution_count": 67
    }
   ],
   "source": [
    "cost_impact_per_route"
   ]
  },
  {
   "cell_type": "markdown",
   "metadata": {},
   "source": [
    "# Strategic Question 4\n",
    "\n",
    "What would the cost be to make an entire regional transit area free and how would this compare?\n",
    "\n",
    "For RTA's this difference in Fares of which we define as the cost to the city is much easier and more accurate to analyze because we just need to look at MA's ridership data per RTA as seen below:"
   ]
  },
  {
   "cell_type": "code",
   "execution_count": 64,
   "metadata": {},
   "outputs": [
    {
     "output_type": "execute_result",
     "data": {
      "text/plain": [
       "                                               Agency   Fares FY TOS\n",
       "0                     Brockton Area Transit Authority  2668996.0  PT\n",
       "1                   Lowell Regional Transit Authority        NaN  DO\n",
       "2                   Lowell Regional Transit Authority  1324536.0  PT\n",
       "3             Southeastern Regional Transit Authority  2267445.0  PT\n",
       "4                Berkshire Regional Transit Authority   667672.0  PT\n",
       "5                    Pioneer Valley Transit Authority  6732600.0  PT\n",
       "6         Merrimack Valley Regional Transit Authority  1141975.0  PT\n",
       "7                Worcester Regional Transit Authority  2847838.0  DO\n",
       "8                Worcester Regional Transit Authority        NaN  PT\n",
       "9                   Cape Ann Transportation Authority   158172.0  PT\n",
       "10            Montachusett Regional Transit Authority   728269.0  PT\n",
       "11  Greater Attleboro-Taunton Regional Transit Aut...   810251.0  PT\n",
       "12                                    Transit Express        NaN  PT\n",
       "13                Cape Cod Regional Transit Authority   973479.0  PT\n",
       "14         Plymouth & Brockton Street Railway Company        NaN  DO\n",
       "15               MetroWest Regional Transit Authority   676925.0  PT\n",
       "16           Worcester Regional Transit Authority COA      545.0  PT\n",
       "17  Woods Hole, Martha's Vineyard and Nantucket St...        0.0  DO"
      ],
      "text/html": "<div>\n<style scoped>\n    .dataframe tbody tr th:only-of-type {\n        vertical-align: middle;\n    }\n\n    .dataframe tbody tr th {\n        vertical-align: top;\n    }\n\n    .dataframe thead th {\n        text-align: right;\n    }\n</style>\n<table border=\"1\" class=\"dataframe\">\n  <thead>\n    <tr style=\"text-align: right;\">\n      <th></th>\n      <th>Agency</th>\n      <th>Fares FY</th>\n      <th>TOS</th>\n    </tr>\n  </thead>\n  <tbody>\n    <tr>\n      <th>0</th>\n      <td>Brockton Area Transit Authority</td>\n      <td>2668996.0</td>\n      <td>PT</td>\n    </tr>\n    <tr>\n      <th>1</th>\n      <td>Lowell Regional Transit Authority</td>\n      <td>NaN</td>\n      <td>DO</td>\n    </tr>\n    <tr>\n      <th>2</th>\n      <td>Lowell Regional Transit Authority</td>\n      <td>1324536.0</td>\n      <td>PT</td>\n    </tr>\n    <tr>\n      <th>3</th>\n      <td>Southeastern Regional Transit Authority</td>\n      <td>2267445.0</td>\n      <td>PT</td>\n    </tr>\n    <tr>\n      <th>4</th>\n      <td>Berkshire Regional Transit Authority</td>\n      <td>667672.0</td>\n      <td>PT</td>\n    </tr>\n    <tr>\n      <th>5</th>\n      <td>Pioneer Valley Transit Authority</td>\n      <td>6732600.0</td>\n      <td>PT</td>\n    </tr>\n    <tr>\n      <th>6</th>\n      <td>Merrimack Valley Regional Transit Authority</td>\n      <td>1141975.0</td>\n      <td>PT</td>\n    </tr>\n    <tr>\n      <th>7</th>\n      <td>Worcester Regional Transit Authority</td>\n      <td>2847838.0</td>\n      <td>DO</td>\n    </tr>\n    <tr>\n      <th>8</th>\n      <td>Worcester Regional Transit Authority</td>\n      <td>NaN</td>\n      <td>PT</td>\n    </tr>\n    <tr>\n      <th>9</th>\n      <td>Cape Ann Transportation Authority</td>\n      <td>158172.0</td>\n      <td>PT</td>\n    </tr>\n    <tr>\n      <th>10</th>\n      <td>Montachusett Regional Transit Authority</td>\n      <td>728269.0</td>\n      <td>PT</td>\n    </tr>\n    <tr>\n      <th>11</th>\n      <td>Greater Attleboro-Taunton Regional Transit Aut...</td>\n      <td>810251.0</td>\n      <td>PT</td>\n    </tr>\n    <tr>\n      <th>12</th>\n      <td>Transit Express</td>\n      <td>NaN</td>\n      <td>PT</td>\n    </tr>\n    <tr>\n      <th>13</th>\n      <td>Cape Cod Regional Transit Authority</td>\n      <td>973479.0</td>\n      <td>PT</td>\n    </tr>\n    <tr>\n      <th>14</th>\n      <td>Plymouth &amp; Brockton Street Railway Company</td>\n      <td>NaN</td>\n      <td>DO</td>\n    </tr>\n    <tr>\n      <th>15</th>\n      <td>MetroWest Regional Transit Authority</td>\n      <td>676925.0</td>\n      <td>PT</td>\n    </tr>\n    <tr>\n      <th>16</th>\n      <td>Worcester Regional Transit Authority COA</td>\n      <td>545.0</td>\n      <td>PT</td>\n    </tr>\n    <tr>\n      <th>17</th>\n      <td>Woods Hole, Martha's Vineyard and Nantucket St...</td>\n      <td>0.0</td>\n      <td>DO</td>\n    </tr>\n  </tbody>\n</table>\n</div>"
     },
     "metadata": {},
     "execution_count": 64
    }
   ],
   "source": [
    "ridership_df[['Agency', 'Fares FY', 'TOS']]"
   ]
  },
  {
   "cell_type": "code",
   "execution_count": null,
   "metadata": {},
   "outputs": [],
   "source": []
  }
 ],
 "metadata": {
  "kernelspec": {
   "display_name": "Python 3",
   "language": "python",
   "name": "python3"
  },
  "language_info": {
   "codemirror_mode": {
    "name": "ipython",
    "version": 3
   },
   "file_extension": ".py",
   "mimetype": "text/x-python",
   "name": "python",
   "nbconvert_exporter": "python",
   "pygments_lexer": "ipython3",
   "version": "3.7.2-final"
  }
 },
 "nbformat": 4,
 "nbformat_minor": 4
}