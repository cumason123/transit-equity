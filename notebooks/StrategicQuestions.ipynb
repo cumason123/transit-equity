{
 "cells": [
  {
   "cell_type": "code",
   "execution_count": null,
   "metadata": {},
   "outputs": [
    {
     "name": "stdout",
     "output_type": "stream",
     "text": [
      "   OBJECTID shape_id agency_id route_id route_shor  \\\n",
      "0         1   p_6097       444     2933          1   \n",
      "1         2   p_6101       444     2934          2   \n",
      "2         3   p_6102       444     2935          3   \n",
      "3         4   p_6103       444     2935          3   \n",
      "4         5   p_6105       444     2940          8   \n",
      "\n",
      "                              route_long  \\\n",
      "0  Montello Street Via North Main Street   \n",
      "1       S Plaza/Campello Via Main Street   \n",
      "2                VA Hospital via Belmont   \n",
      "3                VA Hospital via Belmont   \n",
      "4   Southfield via Warren & Plain Street   \n",
      "\n",
      "                                          route_desc route_type  \\\n",
      "0                 Travels from BAT centre to Walmart          3   \n",
      "1  Travels from Batcenter to shaws and back to Ba...          3   \n",
      "2      Travels to VA Hospital and back to Bat center          3   \n",
      "3      Travels to VA Hospital and back to Bat center          3   \n",
      "4  From Bat center to Southfield via Warren ave &...          3   \n",
      "\n",
      "                                          route_url route_colo route_text  \\\n",
      "0  http://www.ridebat.com/schedulemaps/brockton/r1/     5eaccc     000000   \n",
      "1  http://www.ridebat.com/schedulemaps/brockton/r2/     743299     ffffff   \n",
      "2  http://www.ridebat.com/schedulemaps/brockton/r3/     b94ad0     000000   \n",
      "3  http://www.ridebat.com/schedulemaps/brockton/r3/     b94ad0     000000   \n",
      "4  http://www.ridebat.com/schedulemaps/brockton/r8/     80af74     000000   \n",
      "\n",
      "  route_sort min_headwa eligibilit continuous continuo_1 route_ty_1  \\\n",
      "0          0         60          0          1          1        Bus   \n",
      "1          1         40          0          1          1        Bus   \n",
      "2          2         40          0          1          1        Bus   \n",
      "3          2         40          0          1          1        Bus   \n",
      "4          7         40          0          1          1        Bus   \n",
      "\n",
      "            Agency  ShapeSTLen  \\\n",
      "0  BrocktonAreaRTA    0.063724   \n",
      "1  BrocktonAreaRTA    0.047798   \n",
      "2  BrocktonAreaRTA    0.042324   \n",
      "3  BrocktonAreaRTA    0.057318   \n",
      "4  BrocktonAreaRTA    0.091772   \n",
      "\n",
      "                                            geometry  \n",
      "0  LINESTRING (-71.01542 42.08528, -71.01545 42.0...  \n",
      "1  LINESTRING (-71.01566 42.08531, -71.01569 42.0...  \n",
      "2  LINESTRING (-71.01544 42.08533, -71.01542 42.0...  \n",
      "3  LINESTRING (-71.01542 42.08530, -71.01543 42.0...  \n",
      "4  LINESTRING (-71.01542 42.08530, -71.01543 42.0...  \n",
      "   OBJECTID  stop_id stop_code platform_c                        stop_name  \\\n",
      "0         1  2537977     810.0       None                    Market Basket   \n",
      "1         2  2558590      None       None            Belair St at 7-Eleven   \n",
      "2         3  2558591      None       None            Belair St at 7-Eleven   \n",
      "3         4  2558592     824.0       None  Belair St at Colonel Bell Drive   \n",
      "4         5  2558593      None       None      Belair St at Belair Hi Rise   \n",
      "\n",
      "  stop_desc   stop_lat   stop_lon zone_id stop_url location_t parent_sta  \\\n",
      "0      None  42.093942 -71.052178   863.0     None          0       None   \n",
      "1      None  42.089019 -71.037204    None     None          0       None   \n",
      "2      None  42.089043 -71.037347    None     None          0       None   \n",
      "3      None  42.090826 -71.037350   863.0     None          0       None   \n",
      "4      None  42.091874 -71.037641    None     None          0       None   \n",
      "\n",
      "         stop_timez position direction wheelchair           Agency  \\\n",
      "0  America/New_York     None      None          0  BrocktonAreaRTA   \n",
      "1  America/New_York     None      None          0  BrocktonAreaRTA   \n",
      "2  America/New_York     None      None          0  BrocktonAreaRTA   \n",
      "3  America/New_York     None      None          0  BrocktonAreaRTA   \n",
      "4  America/New_York     None      None          0  BrocktonAreaRTA   \n",
      "\n",
      "                     geometry  \n",
      "0  POINT (-71.05218 42.09394)  \n",
      "1  POINT (-71.03720 42.08902)  \n",
      "2  POINT (-71.03735 42.08904)  \n",
      "3  POINT (-71.03735 42.09083)  \n",
      "4  POINT (-71.03764 42.09187)  \n",
      "Joining bus stops onto routes. this may take a while!\n"
     ]
    }
   ],
   "source": [
    "from rtc_transit_equity.datasets import generate\n",
    "data = generate()\n",
    "print(data.keys())"
   ]
  },
  {
   "cell_type": "code",
   "execution_count": null,
   "metadata": {},
   "outputs": [],
   "source": [
    "result = data['result']\n",
    "ridership_df = data['ridership_df']"
   ]
  },
  {
   "cell_type": "markdown",
   "metadata": {},
   "source": [
    "# Strategic Q1\n",
    "p = population census count of some bus stop\n",
    "\n",
    "m = median household income of some bus stop\n",
    "\n",
    "We defined the median household income of a route to be:\n",
    "$$\\frac{\\sum p * m}{\\sum p}$$\n",
    "\n",
    "Where we are essentially normalizing the median household income of a route based on the stops along that route"
   ]
  },
  {
   "cell_type": "code",
   "execution_count": null,
   "metadata": {},
   "outputs": [],
   "source": [
    "route_names = list(set(result.route_long_name))\n",
    "\n",
    "# TODO FIGURE OUT WHY WE HAVE DUPLICATE AGENCIES\n",
    "# Normalize route's median household income by bus stops along the route\n",
    "averages = {}\n",
    "for route_name in tqdm(route_names):\n",
    "    route_stops = result.loc[result.route_long_name == route_name]\n",
    "    route_avg = (route_stops.population * route_stops.median_household_income).sum() / route_stops.population.sum()\n",
    "    \n",
    "    agencies = list(set(route_stops.Agency))\n",
    "    averages[route_name] = {\n",
    "        \"median_household_income\": float(route_avg), \n",
    "        \"RTA\": list(set(route_stops.Agency)),\n",
    "        \"route_population\": float(route_stops.population.sum()),\n",
    "        \"short_name\": list(set(route_stops.route_short_name))\n",
    "    }\n"
   ]
  },
  {
   "cell_type": "code",
   "execution_count": null,
   "metadata": {},
   "outputs": [],
   "source": [
    "vals = list(averages.items())\n",
    "poorest_routes = sorted(vals, key=lambda elem: elem[1][\"median_household_income\"])\n",
    "print(f\"Poorest routes:\\n\\n{json.dumps(poorest_routes[:5], indent=2)}\")"
   ]
  },
  {
   "cell_type": "markdown",
   "metadata": {},
   "source": [
    "# Strategic Q2\n",
    "\n",
    "C: Total Operating Cost\n",
    "\n",
    "T: Total number of unlinked trips\n",
    "\n",
    "F: Total fares in a fiscal year\n",
    "\n",
    "Average Cost = $$\\frac{C}{T}$$\n",
    "\n",
    "Free Estimated Average Cost Per Trip = $$\\frac{C + F}{T * 1.3}$$\n",
    "\n",
    "We use the 1.3 constant due to the simpson curtson rule"
   ]
  },
  {
   "cell_type": "code",
   "execution_count": null,
   "metadata": {},
   "outputs": [],
   "source": [
    "RIDERSHIP_INCREASE_CONSTANT = 1.3\n",
    "\n",
    "ridership_df['Free Estimated Average Cost Per Trip'] = \\\n",
    "    (ridership_df['Operating Expenses FY'] + ridership_df['Fares FY']) / \\\n",
    "    (ridership_df['Unlinked Passenger Trips FY'] * RIDERSHIP_INCREASE_CONSTANT)\n",
    "\n",
    "ridership_df['Free percent average cost change'] = \\\n",
    "    (ridership_df['Free Estimated Average Cost Per Trip'] - ridership_df['Average Cost per Trip FY']) / \\\n",
    "    ridership_df['Average Cost per Trip FY']"
   ]
  },
  {
   "cell_type": "code",
   "execution_count": null,
   "metadata": {},
   "outputs": [],
   "source": [
    "display(ridership_df[[\n",
    "    'Free Estimated Average Cost Per Trip',\n",
    "    'Average Cost per Trip FY',\n",
    "    'Free percent average cost change',\n",
    "    'Agency'\n",
    "]].sort_values('Free percent average cost change').dropna())"
   ]
  },
  {
   "cell_type": "markdown",
   "metadata": {},
   "source": [
    "Below I will prove that assuming we have a 30% increase of ridership when we remove 100% of fares via the simpson curtson rule, average cost per trip will always decrease when the amount of revenue you generate is less than 3 tenths of the total operational cost:\n",
    "\n",
    "I will define the below function to be the percent change of average cost per trip when you remove 100% of fares. Let's define the following variables:\n",
    "\n",
    "x: Total revenue from fares\n",
    "\n",
    "C: Total cost of operation\n",
    "\n",
    "T: Total number of trips\n",
    "\n",
    "$$g(x) = \\frac{(\\frac{c + x}{t*1.3}) - \\frac{c}{t}}{\\frac{c}{t}}$$\n",
    "\n",
    "Notice this function will be strictly increasing when C and T are positive numbers.\n",
    "\n",
    "Now to solve for when y=0:\n",
    "\n",
    "$$0 = \\frac{(\\frac{c + x}{t*1.3}) - \\frac{c}{t}}{\\frac{c}{t}}$$\n",
    "\n",
    "$$0 = \\frac{c + x}{t*1.3} - \\frac{c}{t}$$\n",
    "\n",
    "$$\\frac{c}{t} = \\frac{c + x}{t*1.3}$$\n",
    "\n",
    "$$c * 1.3 = c + x$$\n",
    "\n",
    "$$c * 1.3 - c = x$$\n",
    "\n",
    "$$.3 * c = x$$"
   ]
  },
  {
   "cell_type": "code",
   "execution_count": null,
   "metadata": {},
   "outputs": [],
   "source": []
  }
 ],
 "metadata": {
  "kernelspec": {
   "display_name": "Python 3",
   "language": "python",
   "name": "python3"
  },
  "language_info": {
   "codemirror_mode": {
    "name": "ipython",
    "version": 3
   },
   "file_extension": ".py",
   "mimetype": "text/x-python",
   "name": "python",
   "nbconvert_exporter": "python",
   "pygments_lexer": "ipython3",
   "version": "3.8.3"
  }
 },
 "nbformat": 4,
 "nbformat_minor": 4
}
